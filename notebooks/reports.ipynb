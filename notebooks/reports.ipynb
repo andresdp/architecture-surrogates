{
 "cells": [
  {
   "cell_type": "markdown",
   "metadata": {
    "id": "iYT0MawIasL6"
   },
   "source": [
    "## **Graphical Results**"
   ]
  },
  {
   "cell_type": "code",
   "execution_count": null,
   "metadata": {
    "colab": {
     "base_uri": "https://localhost:8080/"
    },
    "executionInfo": {
     "elapsed": 43010,
     "status": "ok",
     "timestamp": 1734791257890,
     "user": {
      "displayName": "Andres Diaz-Pace",
      "userId": "06774295198865754437"
     },
     "user_tz": 180
    },
    "id": "kR35DnhIUAl2",
    "outputId": "f4077734-2ba7-484a-9496-8c4ab80c38e2"
   },
   "outputs": [],
   "source": [
    "# Installing required libraries\n",
    "\n",
    "# !pip install ipython-autotime  --quiet\n",
    "# !pip install paretoset --quiet\n",
    "# !pip install genai_evaluation --quiet\n",
    "# !pip install pymoo --quiet\n",
    "# %load_ext autotime"
   ]
  },
  {
   "cell_type": "code",
   "execution_count": 2,
   "metadata": {
    "colab": {
     "base_uri": "https://localhost:8080/"
    },
    "executionInfo": {
     "elapsed": 12777,
     "status": "ok",
     "timestamp": 1734791270663,
     "user": {
      "displayName": "Andres Diaz-Pace",
      "userId": "06774295198865754437"
     },
     "user_tz": 180
    },
    "id": "aW-Xs_DEgWJj",
    "outputId": "13a68d7c-813a-4bae-df0a-026444946a95"
   },
   "outputs": [],
   "source": [
    "import matplotlib.pyplot as plt\n",
    "import numpy as np\n",
    "import pandas as pd\n",
    "\n",
    "from sklearn.metrics import r2_score\n",
    "from sklearn.metrics import mean_squared_error, mean_absolute_error, mean_absolute_percentage_error\n",
    "\n",
    "# import gdown\n",
    "\n",
    "from sklearn.metrics import PredictionErrorDisplay\n",
    "import matplotlib.patches as mpatches\n",
    "from itertools import cycle\n",
    "import matplotlib.colors as mcolors\n",
    "from timeit import default_timer as timer\n",
    "import warnings\n",
    "from collections import defaultdict\n",
    "\n",
    "import seaborn as sns\n",
    "\n",
    "from pymoo.indicators.hv import HV\n",
    "from pymoo.indicators.igd_plus import IGDPlus\n",
    "\n",
    "from paretoset import paretoset\n",
    "import random\n",
    "from genai_evaluation import multivariate_ecdf, ks_statistic\n",
    "from scipy import stats"
   ]
  },
  {
   "cell_type": "code",
   "execution_count": null,
   "metadata": {
    "colab": {
     "base_uri": "https://localhost:8080/"
    },
    "executionInfo": {
     "elapsed": 8,
     "status": "ok",
     "timestamp": 1734791270663,
     "user": {
      "displayName": "Andres Diaz-Pace",
      "userId": "06774295198865754437"
     },
     "user_tz": 180
    },
    "id": "2qk8VJ0o2Dd_",
    "outputId": "7c4dd806-2ae9-4f2f-aa16-7cdc778d8db2"
   },
   "outputs": [],
   "source": [
    "OBJ_STPLUS= ['m1', 'm2', 'p1', 'p2']\n",
    "OBJ_COCOME = ['m1', 'm2', 'm3', 'm4','p1', 'p2', 'p3', 'p4']"
   ]
  },
  {
   "cell_type": "markdown",
   "metadata": {
    "id": "6ATJj4e7_3az"
   },
   "source": [
    "Analysis of reference Pareto fronts (ground truth) versus predicted frontiers with IAL strategy (for different sampling factors). KS tests for the distributions are also included."
   ]
  },
  {
   "cell_type": "code",
   "execution_count": 4,
   "metadata": {
    "colab": {
     "base_uri": "https://localhost:8080/"
    },
    "executionInfo": {
     "elapsed": 557,
     "status": "ok",
     "timestamp": 1734791271214,
     "user": {
      "displayName": "Andres Diaz-Pace",
      "userId": "06774295198865754437"
     },
     "user_tz": 180
    },
    "id": "0BUAIvnT4fOM",
    "outputId": "60c50cd9-22b4-4ed2-ded9-6dea4fd31016"
   },
   "outputs": [],
   "source": [
    "# Ground truth values (using only solvers)\n",
    "SCALED_STPLUS = \"https://raw.githubusercontent.com/andresdp/architecture-surrogates/refs/heads/main/results/scaled_stplus.csv\"\n",
    "SCALED_COCOME = \"https://raw.githubusercontent.com/andresdp/architecture-surrogates/refs/heads/main/results/scaled_cocome.csv\"\n",
    "\n",
    "scaled_stplus_df = pd.read_csv(SCALED_STPLUS)\n",
    "scaled_cocome_df = pd.read_csv(SCALED_COCOME)"
   ]
  },
  {
   "cell_type": "code",
   "execution_count": 5,
   "metadata": {
    "colab": {
     "base_uri": "https://localhost:8080/",
     "height": 258
    },
    "executionInfo": {
     "elapsed": 7485,
     "status": "ok",
     "timestamp": 1734791278695,
     "user": {
      "displayName": "Andres Diaz-Pace",
      "userId": "06774295198865754437"
     },
     "user_tz": 180
    },
    "id": "yaXWeh_wBlmp",
    "outputId": "06f10b62-e0f8-4171-818a-f12defacdbb6"
   },
   "outputs": [
    {
     "name": "stdout",
     "output_type": "stream",
     "text": [
      "(454, 4)\n",
      "NPS ST+ (gt): 25\n"
     ]
    },
    {
     "data": {
      "text/html": [
       "<div>\n",
       "<style scoped>\n",
       "    .dataframe tbody tr th:only-of-type {\n",
       "        vertical-align: middle;\n",
       "    }\n",
       "\n",
       "    .dataframe tbody tr th {\n",
       "        vertical-align: top;\n",
       "    }\n",
       "\n",
       "    .dataframe thead th {\n",
       "        text-align: right;\n",
       "    }\n",
       "</style>\n",
       "<table border=\"1\" class=\"dataframe\">\n",
       "  <thead>\n",
       "    <tr style=\"text-align: right;\">\n",
       "      <th></th>\n",
       "      <th>m1</th>\n",
       "      <th>m2</th>\n",
       "      <th>p1</th>\n",
       "      <th>p2</th>\n",
       "    </tr>\n",
       "  </thead>\n",
       "  <tbody>\n",
       "    <tr>\n",
       "      <th>1</th>\n",
       "      <td>0.266631</td>\n",
       "      <td>-2.059924</td>\n",
       "      <td>-0.339601</td>\n",
       "      <td>-0.205074</td>\n",
       "    </tr>\n",
       "    <tr>\n",
       "      <th>15</th>\n",
       "      <td>-1.696971</td>\n",
       "      <td>-1.014600</td>\n",
       "      <td>-0.203018</td>\n",
       "      <td>-0.222431</td>\n",
       "    </tr>\n",
       "    <tr>\n",
       "      <th>16</th>\n",
       "      <td>0.266631</td>\n",
       "      <td>-1.269398</td>\n",
       "      <td>-0.486492</td>\n",
       "      <td>-0.222636</td>\n",
       "    </tr>\n",
       "    <tr>\n",
       "      <th>30</th>\n",
       "      <td>0.266631</td>\n",
       "      <td>-0.478872</td>\n",
       "      <td>-0.612629</td>\n",
       "      <td>-0.200457</td>\n",
       "    </tr>\n",
       "    <tr>\n",
       "      <th>39</th>\n",
       "      <td>0.266631</td>\n",
       "      <td>-1.014600</td>\n",
       "      <td>-0.363719</td>\n",
       "      <td>-0.244465</td>\n",
       "    </tr>\n",
       "  </tbody>\n",
       "</table>\n",
       "</div>"
      ],
      "text/plain": [
       "          m1        m2        p1        p2\n",
       "1   0.266631 -2.059924 -0.339601 -0.205074\n",
       "15 -1.696971 -1.014600 -0.203018 -0.222431\n",
       "16  0.266631 -1.269398 -0.486492 -0.222636\n",
       "30  0.266631 -0.478872 -0.612629 -0.200457\n",
       "39  0.266631 -1.014600 -0.363719 -0.244465"
      ]
     },
     "execution_count": 5,
     "metadata": {},
     "output_type": "execute_result"
    }
   ],
   "source": [
    "# Computing pareto front for ST+ (ground truth)\n",
    "print(scaled_stplus_df.shape)\n",
    "mask = paretoset(scaled_stplus_df, sense=[\"min\"]*4)\n",
    "gt_pf_stplus = scaled_stplus_df[mask]\n",
    "print(\"NPS ST+ (gt):\", gt_pf_stplus.shape[0])\n",
    "gt_pf_stplus.head()"
   ]
  },
  {
   "cell_type": "code",
   "execution_count": 6,
   "metadata": {
    "colab": {
     "base_uri": "https://localhost:8080/",
     "height": 258
    },
    "executionInfo": {
     "elapsed": 11,
     "status": "ok",
     "timestamp": 1734791278695,
     "user": {
      "displayName": "Andres Diaz-Pace",
      "userId": "06774295198865754437"
     },
     "user_tz": 180
    },
    "id": "D-IyBasbGpFK",
    "outputId": "c6b53b0c-cb2b-4287-feb2-991cad4f7ccb"
   },
   "outputs": [
    {
     "name": "stdout",
     "output_type": "stream",
     "text": [
      "(1192, 8)\n",
      "NPS CoCoME (gt): 32\n"
     ]
    },
    {
     "data": {
      "text/html": [
       "<div>\n",
       "<style scoped>\n",
       "    .dataframe tbody tr th:only-of-type {\n",
       "        vertical-align: middle;\n",
       "    }\n",
       "\n",
       "    .dataframe tbody tr th {\n",
       "        vertical-align: top;\n",
       "    }\n",
       "\n",
       "    .dataframe thead th {\n",
       "        text-align: right;\n",
       "    }\n",
       "</style>\n",
       "<table border=\"1\" class=\"dataframe\">\n",
       "  <thead>\n",
       "    <tr style=\"text-align: right;\">\n",
       "      <th></th>\n",
       "      <th>m1</th>\n",
       "      <th>m2</th>\n",
       "      <th>m3</th>\n",
       "      <th>m4</th>\n",
       "      <th>p1</th>\n",
       "      <th>p2</th>\n",
       "      <th>p3</th>\n",
       "      <th>p4</th>\n",
       "    </tr>\n",
       "  </thead>\n",
       "  <tbody>\n",
       "    <tr>\n",
       "      <th>0</th>\n",
       "      <td>-0.361104</td>\n",
       "      <td>-0.664689</td>\n",
       "      <td>-0.788151</td>\n",
       "      <td>-0.070163</td>\n",
       "      <td>-0.413973</td>\n",
       "      <td>-0.297389</td>\n",
       "      <td>-0.499175</td>\n",
       "      <td>-0.044066</td>\n",
       "    </tr>\n",
       "    <tr>\n",
       "      <th>337</th>\n",
       "      <td>0.025876</td>\n",
       "      <td>0.502472</td>\n",
       "      <td>1.023888</td>\n",
       "      <td>-10.973082</td>\n",
       "      <td>-0.579139</td>\n",
       "      <td>-0.372729</td>\n",
       "      <td>-0.371439</td>\n",
       "      <td>-0.045204</td>\n",
       "    </tr>\n",
       "    <tr>\n",
       "      <th>536</th>\n",
       "      <td>-11.390043</td>\n",
       "      <td>0.502472</td>\n",
       "      <td>1.023888</td>\n",
       "      <td>-0.070163</td>\n",
       "      <td>-0.595978</td>\n",
       "      <td>-0.368051</td>\n",
       "      <td>-0.443512</td>\n",
       "      <td>-0.044996</td>\n",
       "    </tr>\n",
       "    <tr>\n",
       "      <th>537</th>\n",
       "      <td>0.025876</td>\n",
       "      <td>-8.409689</td>\n",
       "      <td>0.915886</td>\n",
       "      <td>-0.070163</td>\n",
       "      <td>-0.237487</td>\n",
       "      <td>-0.239750</td>\n",
       "      <td>-0.636984</td>\n",
       "      <td>-0.043694</td>\n",
       "    </tr>\n",
       "    <tr>\n",
       "      <th>800</th>\n",
       "      <td>0.025876</td>\n",
       "      <td>-8.340123</td>\n",
       "      <td>1.023888</td>\n",
       "      <td>-0.070163</td>\n",
       "      <td>-0.579139</td>\n",
       "      <td>-0.372729</td>\n",
       "      <td>-0.371439</td>\n",
       "      <td>-0.045204</td>\n",
       "    </tr>\n",
       "  </tbody>\n",
       "</table>\n",
       "</div>"
      ],
      "text/plain": [
       "            m1        m2        m3         m4        p1        p2        p3  \\\n",
       "0    -0.361104 -0.664689 -0.788151  -0.070163 -0.413973 -0.297389 -0.499175   \n",
       "337   0.025876  0.502472  1.023888 -10.973082 -0.579139 -0.372729 -0.371439   \n",
       "536 -11.390043  0.502472  1.023888  -0.070163 -0.595978 -0.368051 -0.443512   \n",
       "537   0.025876 -8.409689  0.915886  -0.070163 -0.237487 -0.239750 -0.636984   \n",
       "800   0.025876 -8.340123  1.023888  -0.070163 -0.579139 -0.372729 -0.371439   \n",
       "\n",
       "           p4  \n",
       "0   -0.044066  \n",
       "337 -0.045204  \n",
       "536 -0.044996  \n",
       "537 -0.043694  \n",
       "800 -0.045204  "
      ]
     },
     "execution_count": 6,
     "metadata": {},
     "output_type": "execute_result"
    }
   ],
   "source": [
    "# Computing pareto front for CoCoME (ground truth)\n",
    "print(scaled_cocome_df.shape)\n",
    "mask = paretoset(scaled_cocome_df, sense=[\"min\"]*8)\n",
    "gt_pf_cocome = scaled_cocome_df[mask]\n",
    "print(\"NPS CoCoME (gt):\", gt_pf_cocome.shape[0])\n",
    "gt_pf_cocome.head()"
   ]
  },
  {
   "cell_type": "code",
   "execution_count": 7,
   "metadata": {
    "colab": {
     "base_uri": "https://localhost:8080/"
    },
    "executionInfo": {
     "elapsed": 360,
     "status": "ok",
     "timestamp": 1734791279047,
     "user": {
      "displayName": "Andres Diaz-Pace",
      "userId": "06774295198865754437"
     },
     "user_tz": 180
    },
    "id": "9cu-E6M14HOq",
    "outputId": "56771dfe-66c3-455f-c85d-cbbdcc944563"
   },
   "outputs": [],
   "source": [
    "BASELINE_PREDS_STPLUS = \"https://raw.githubusercontent.com/andresdp/architecture-surrogates/refs/heads/main/results/baseline_preds_naive_stplus.csv\"\n",
    "BASELINE_PREDS_COCOME = \"https://raw.githubusercontent.com/andresdp/architecture-surrogates/refs/heads/main/results/baseline_preds_naive_cocome.csv\"\n",
    "\n",
    "# Predictions for naive baseline\n",
    "baseline_preds_stplus_df = pd.read_csv(BASELINE_PREDS_STPLUS)\n",
    "baseline_preds_cocome_df = pd.read_csv(BASELINE_PREDS_COCOME)"
   ]
  },
  {
   "cell_type": "code",
   "execution_count": 8,
   "metadata": {
    "colab": {
     "base_uri": "https://localhost:8080/"
    },
    "executionInfo": {
     "elapsed": 257,
     "status": "ok",
     "timestamp": 1734791279302,
     "user": {
      "displayName": "Andres Diaz-Pace",
      "userId": "06774295198865754437"
     },
     "user_tz": 180
    },
    "id": "9Lnq-YABU4iO",
    "outputId": "f36fec9f-f4d0-4bc3-d82c-2a2548dd0d9e"
   },
   "outputs": [],
   "source": [
    "def compute_moo_indicators(reference_pf, pf):\n",
    "\n",
    "  \"\"\"Calculates multi-objective optimization (MOO) indicators comparing a Pareto front to a reference.\n",
    "\n",
    "  This function computes a set of MOO indicators to evaluate the quality of a\n",
    "  Pareto front (`pf`) relative to a known reference Pareto front (`reference_pf`).\n",
    "  It provides insights into convergence and diversity of the generated solutions.\n",
    "\n",
    "  Args:\n",
    "      reference_pf (np.ndarray): A NumPy array representing the reference Pareto front,\n",
    "          where each row corresponds to a solution and each column represents\n",
    "          an objective value.\n",
    "      pf (np.ndarray): A NumPy array representing the Pareto front to be evaluated,\n",
    "          with the same structure as `reference_pf`.\n",
    "\n",
    "  Returns:\n",
    "      dict: A dictionary containing the computed MOO indicators, where keys\n",
    "          are the indicator names (e.g., 'GD', 'IGD', 'HV') and values are\n",
    "          the corresponding indicator values. The specific indicators calculated\n",
    "          may vary depending on the function's implementation.\n",
    "  \"\"\"\n",
    "\n",
    "  ref_point = reference_pf.max(axis=0).values # Approximate nadir point (worst value)\n",
    "  # print(\"Nadir point:\", ref_point)\n",
    "  hv = HV(ref_point=ref_point)\n",
    "  igd_plus = IGDPlus(reference_pf.values)\n",
    "\n",
    "  metrics_dict = dict()\n",
    "  metrics_dict['HV_ref'] = hv(reference_pf.values)\n",
    "  metrics_dict['HV'] = hv(pf.values)\n",
    "  metrics_dict['IGD+'] = igd_plus(pf.values)\n",
    "  metrics_dict['NPS_ref'] = reference_pf.shape[0]\n",
    "  metrics_dict['NPS'] = pf.shape[0]\n",
    "  return metrics_dict\n",
    "\n",
    "def compute_multivariate_ks(validation_data, pred_data, n_nodes=2000, random_seed=2, verbose=False):\n",
    "  \"\"\"Calculates the multivariate Kolmogorov-Smirnov (KS) statistic between two datasets.\n",
    "\n",
    "  This function compares the empirical cumulative distribution functions (ECDFs) of\n",
    "  `validation_data` and `pred_data` to assess the similarity of their distributions.\n",
    "  It uses a grid-based approach with `n_nodes` to approximate the ECDFs.\n",
    "\n",
    "  Args:\n",
    "      validation_data (np.ndarray): The validation dataset.\n",
    "      pred_data (np.ndarray): The predicted data.\n",
    "      n_nodes (int, optional): Number of grid nodes for ECDF approximation. Defaults to 2000.\n",
    "      random_seed (int, optional): Random seed for reproducibility. Defaults to 2.\n",
    "      verbose (bool, optional): Whether to print progress information. Defaults to False.\n",
    "\n",
    "  Returns:\n",
    "      float: The multivariate KS statistic, representing the maximum separation\n",
    "             between the ECDFs of the two datasets. A value closer to 0 indicates\n",
    "             a better fit between the distributions.\n",
    "  \"\"\"\n",
    "\n",
    "  # Calculate ECDFs\n",
    "  _, ecdf_val, ecdf_pred = multivariate_ecdf(validation_data, pred_data, n_nodes = n_nodes,\n",
    "                                               verbose = verbose, random_seed=random_seed)\n",
    "  # Calculates the maximum separation (distance) between the ECDFs and yields a result ranging\n",
    "  # from 0 (indicating the best fit) and 1 (indicating the worst fit).\n",
    "  ks_stat = ks_statistic(ecdf_val, ecdf_pred)\n",
    "  return ks_stat\n",
    "\n",
    "def compute_univariate_ks(validation_data, pred_data, targets=None):\n",
    "  \"\"\"Calculates the univariate Kolmogorov-Smirnov (KS) statistic for each target variable.\n",
    "\n",
    "  This function compares the distributions of the validation data and the predicted data\n",
    "  for each target variable using the two-sample KS test. It returns a list of tuples,\n",
    "  where each tuple contains the KS statistic and p-value for a target variable.\n",
    "\n",
    "  Args:\n",
    "      validation_data (np.ndarray): The validation dataset.\n",
    "      pred_data (np.ndarray): The predicted data.\n",
    "      targets (list or None, optional): A list of target variable names.\n",
    "                                        If None, the results will not include target names.\n",
    "                                        Defaults to None.\n",
    "\n",
    "  Returns:\n",
    "      list: A list of tuples, where each tuple contains:\n",
    "            - If `targets` is provided: (target_name, ks_statistic, p_value)\n",
    "            - If `targets` is None: (ks_statistic, p_value)\n",
    "  \"\"\"\n",
    "\n",
    "  ks_stats = []\n",
    "  for x in range(0,validation_data.shape[1]):\n",
    "    sample1 = validation_data[:,x]\n",
    "    sample2 = pred_data[:,x]\n",
    "    ks = stats.ks_2samp(sample1, sample2)\n",
    "    if targets is None:\n",
    "      ks_stats.append((ks.statistic,ks.pvalue))\n",
    "    else:\n",
    "      ks_stats.append((targets[x],ks.statistic,ks.pvalue))\n",
    "  return ks_stats\n",
    "\n",
    "\n",
    "def compute_incremental_moo_indicators(df, baseline_preds, incremental_preds):\n",
    "  \"\"\"Calculates and compares Multi-Objective Optimization (MOO) performance indicators for baseline and incremental learning scenarios.\n",
    "\n",
    "  This function evaluates the performance of a MOO model in two scenarios:\n",
    "  1. Baseline: Using a baseline model's predictions.\n",
    "  2. Incremental: Using predictions from a model trained with incrementally added data.\n",
    "\n",
    "  It computes various MOO indicators (e.g., Hypervolume, IGD+) and statistical tests\n",
    "  (Kolmogorov-Smirnov) to assess the quality of the predicted Pareto fronts compared\n",
    "  to the ground truth Pareto front.\n",
    "\n",
    "  Args:\n",
    "      df (pd.DataFrame): DataFrame containing the ground truth data with objectives as columns.\n",
    "      baseline_preds (pd.DataFrame or np.ndarray): Predictions from the baseline model.\n",
    "      incremental_preds (dict): Dictionary where keys represent the amount of data added\n",
    "                                (e.g., sampling fraction) and values are DataFrames or arrays\n",
    "                                of predictions after adding that data.\n",
    "\n",
    "  Returns:\n",
    "      pd.DataFrame: A DataFrame containing the computed MOO indicators and statistical\n",
    "                    test results for both baseline and incremental scenarios, allowing for\n",
    "                    comparison across different data addition levels.\n",
    "  \"\"\"\n",
    "\n",
    "  mask = paretoset(df, sense=[\"min\"]*len(df.columns))\n",
    "  gt_pf = df[mask]\n",
    "\n",
    "  mask = paretoset(baseline_preds, sense=[\"min\"]*len(df.columns))\n",
    "  pf = baseline_preds[mask]\n",
    "  moo_indicators = compute_moo_indicators(gt_pf, pf)\n",
    "  moo_indicators['n_queries'] = 'baseline'\n",
    "  moo_indicators['kstat-multi'] = compute_multivariate_ks(df, baseline_preds)\n",
    "  for qa, ks, pvalue in compute_univariate_ks(df.values, baseline_preds.values, targets=df.columns):\n",
    "    moo_indicators['kstat-'+qa] = ks\n",
    "    moo_indicators['pvalue-'+qa] = pvalue\n",
    "\n",
    "  all_dicts = [moo_indicators]\n",
    "  for nq in incremental_preds.keys():\n",
    "    df_temp = pd.DataFrame(data=incremental_preds[nq], columns=df.columns)\n",
    "    mask = paretoset(df_temp, sense=[\"min\"]*len(df.columns))\n",
    "    pf = baseline_preds[mask]\n",
    "    moo_indicators = compute_moo_indicators(gt_pf, pf)\n",
    "    moo_indicators['n_queries'] = nq\n",
    "    moo_indicators['kstat-multi'] = compute_multivariate_ks(df, df_temp)\n",
    "    for qa, ks, pvalue in compute_univariate_ks(df.values, df_temp.values, targets=df.columns):\n",
    "      moo_indicators['kstat-'+qa] = ks\n",
    "      moo_indicators['pvalue-'+qa] = pvalue\n",
    "    all_dicts.append(moo_indicators)\n",
    "\n",
    "  return pd.DataFrame(all_dicts)"
   ]
  },
  {
   "cell_type": "code",
   "execution_count": 9,
   "metadata": {
    "colab": {
     "base_uri": "https://localhost:8080/"
    },
    "executionInfo": {
     "elapsed": 34319,
     "status": "ok",
     "timestamp": 1734791313619,
     "user": {
      "displayName": "Andres Diaz-Pace",
      "userId": "06774295198865754437"
     },
     "user_tz": 180
    },
    "id": "AHEbCe8wVfJy",
    "outputId": "9b2f9825-3132-43f2-c9b0-f58b3a521c74"
   },
   "outputs": [
    {
     "data": {
      "text/plain": [
       "{'HV_ref': np.float64(51.65768614923578),\n",
       " 'HV': np.float64(49.779450463067846),\n",
       " 'IGD+': np.float64(0.08861004090116315),\n",
       " 'NPS_ref': 25,\n",
       " 'NPS': 52,\n",
       " 'kstat-multi': np.float64(0.5506607929515419)}"
      ]
     },
     "execution_count": 9,
     "metadata": {},
     "output_type": "execute_result"
    }
   ],
   "source": [
    "# Statistics for ST+\n",
    "mask = paretoset(baseline_preds_stplus_df, sense=[\"min\"]*4)\n",
    "pf = baseline_preds_stplus_df[mask]\n",
    "result = compute_moo_indicators(gt_pf_stplus, pf) # ST+\n",
    "result['kstat-multi'] = compute_multivariate_ks(scaled_stplus_df, baseline_preds_stplus_df)\n",
    "result"
   ]
  },
  {
   "cell_type": "code",
   "execution_count": 10,
   "metadata": {
    "colab": {
     "base_uri": "https://localhost:8080/"
    },
    "executionInfo": {
     "elapsed": 8,
     "status": "ok",
     "timestamp": 1734791313620,
     "user": {
      "displayName": "Andres Diaz-Pace",
      "userId": "06774295198865754437"
     },
     "user_tz": 180
    },
    "id": "QI2hc_UF1VHA",
    "outputId": "fac71888-cd0a-4ed1-e9b3-7b484e9fe879"
   },
   "outputs": [
    {
     "data": {
      "text/plain": [
       "[('m1', np.float64(0.34801762114537443), np.float64(8.74057248517932e-25)),\n",
       " ('m2', np.float64(0.40748898678414097), np.float64(4.253341420666999e-34)),\n",
       " ('p1', np.float64(0.14977973568281938), np.float64(7.344555376478549e-05)),\n",
       " ('p2', np.float64(0.1828193832599119), np.float64(4.799640886822356e-07))]"
      ]
     },
     "execution_count": 10,
     "metadata": {},
     "output_type": "execute_result"
    }
   ],
   "source": [
    "# KS Statistic and p-value for each objective in ST+\n",
    "compute_univariate_ks(scaled_stplus_df.values, baseline_preds_stplus_df.values, targets=OBJ_STPLUS)"
   ]
  },
  {
   "cell_type": "code",
   "execution_count": 11,
   "metadata": {
    "colab": {
     "base_uri": "https://localhost:8080/"
    },
    "executionInfo": {
     "elapsed": 51024,
     "status": "ok",
     "timestamp": 1734791364639,
     "user": {
      "displayName": "Andres Diaz-Pace",
      "userId": "06774295198865754437"
     },
     "user_tz": 180
    },
    "id": "0uEvTI76hXmG",
    "outputId": "b6607b16-78fe-4c36-9e90-365898cda4fd"
   },
   "outputs": [
    {
     "data": {
      "text/plain": [
       "{'HV_ref': np.float64(0.005680309736197984),\n",
       " 'HV': np.float64(1.1852067370231425),\n",
       " 'IGD+': np.float64(0.45943913189831415),\n",
       " 'NPS_ref': 32,\n",
       " 'NPS': 79,\n",
       " 'kstat': np.float64(0.4748322147651007)}"
      ]
     },
     "execution_count": 11,
     "metadata": {},
     "output_type": "execute_result"
    }
   ],
   "source": [
    "# Statistics for CoCoME\n",
    "mask = paretoset(baseline_preds_cocome_df, sense=[\"min\"]*8)\n",
    "pf = baseline_preds_cocome_df[mask]\n",
    "result = compute_moo_indicators(gt_pf_cocome, pf)\n",
    "result['kstat'] = compute_multivariate_ks(scaled_cocome_df, baseline_preds_cocome_df)\n",
    "result"
   ]
  },
  {
   "cell_type": "code",
   "execution_count": 12,
   "metadata": {
    "colab": {
     "base_uri": "https://localhost:8080/"
    },
    "executionInfo": {
     "elapsed": 11,
     "status": "ok",
     "timestamp": 1734791364640,
     "user": {
      "displayName": "Andres Diaz-Pace",
      "userId": "06774295198865754437"
     },
     "user_tz": 180
    },
    "id": "lW7IV9Xn12fi",
    "outputId": "b97d245a-af36-465a-ee85-eccc7cd230af"
   },
   "outputs": [
    {
     "data": {
      "text/plain": [
       "[('m1', np.float64(0.3640939597315436), np.float64(1.268343906087778e-70)),\n",
       " ('m2', np.float64(0.311241610738255), np.float64(2.148458230837458e-51)),\n",
       " ('m3', np.float64(0.23825503355704697), np.float64(4.394356321487511e-30)),\n",
       " ('m4', np.float64(0.4790268456375839), np.float64(3.5277581309566914e-124)),\n",
       " ('p1', np.float64(0.1266778523489933), np.float64(9.437138715446997e-09)),\n",
       " ('p2', np.float64(0.19714765100671142), np.float64(1.1389237165521597e-20)),\n",
       " ('p3', np.float64(0.18036912751677853), np.float64(2.3660227613749963e-17)),\n",
       " ('p4', np.float64(0.9261744966442953), np.float64(0.0))]"
      ]
     },
     "execution_count": 12,
     "metadata": {},
     "output_type": "execute_result"
    }
   ],
   "source": [
    "# KS Statistic and p-value for each objective in CoCoME\n",
    "compute_univariate_ks(scaled_cocome_df.values, baseline_preds_cocome_df.values, targets=OBJ_COCOME)"
   ]
  },
  {
   "cell_type": "code",
   "execution_count": null,
   "metadata": {
    "colab": {
     "base_uri": "https://localhost:8080/"
    },
    "executionInfo": {
     "elapsed": 8,
     "status": "ok",
     "timestamp": 1734791364640,
     "user": {
      "displayName": "Andres Diaz-Pace",
      "userId": "06774295198865754437"
     },
     "user_tz": 180
    },
    "id": "3U-I3LjR39LE",
    "outputId": "651c2906-e4b0-448a-bb2e-9ca18b92a3b8"
   },
   "outputs": [],
   "source": [
    "# preds_by_sf_stplus\n",
    "# preds_by_sf_cocome\n",
    "\n",
    "# pd.DataFrame(data=preds_by_sf_stplus[0.1], columns=scaled_stplus_df.columns)\n",
    "# pd.DataFrame(data=preds_by_sf_cocome[0.1], columns=scaled_cocome_df.columns)"
   ]
  },
  {
   "cell_type": "code",
   "execution_count": 14,
   "metadata": {
    "colab": {
     "base_uri": "https://localhost:8080/"
    },
    "executionInfo": {
     "elapsed": 277,
     "status": "ok",
     "timestamp": 1734791364912,
     "user": {
      "displayName": "Andres Diaz-Pace",
      "userId": "06774295198865754437"
     },
     "user_tz": 180
    },
    "id": "EZRQ5Jn13fYp",
    "outputId": "c15cfae4-4f13-41a5-f002-0628deace09c"
   },
   "outputs": [],
   "source": [
    "STPLUS_METRICS_INCREMENTAL_ALL = \"https://raw.githubusercontent.com/andresdp/architecture-surrogates/refs/heads/main/results/stplus-incremental-all.csv\"\n",
    "COCOME_METRICS_INCREMENTAL_ALL = \"https://raw.githubusercontent.com/andresdp/architecture-surrogates/refs/heads/main/results/cocome-incremental-all.csv\"\n",
    "\n",
    "# df_metrics_stplus_all = df_metrics_stplus[df_metrics_stplus['exp']=='incremental - all']\n",
    "df_metrics_stplus_all = pd.read_csv(STPLUS_METRICS_INCREMENTAL_ALL)\n",
    "# df_metrics_cocome_all = df_metrics_cocome[df_metrics_cocome['exp']=='incremental - all']\n",
    "df_metrics_cocome_all = pd.read_csv(COCOME_METRICS_INCREMENTAL_ALL)"
   ]
  },
  {
   "cell_type": "code",
   "execution_count": null,
   "metadata": {
    "colab": {
     "base_uri": "https://localhost:8080/"
    },
    "executionInfo": {
     "elapsed": 9,
     "status": "ok",
     "timestamp": 1734791364912,
     "user": {
      "displayName": "Andres Diaz-Pace",
      "userId": "06774295198865754437"
     },
     "user_tz": 180
    },
    "id": "O3IzFOYWc7_y",
    "outputId": "562ef175-648a-45d4-ee6b-e56732082617"
   },
   "outputs": [],
   "source": [
    "# Compute MOO indicators for ST+ with respect to the ground truth\n",
    "# results_stplus = compute_incremental_moo_indicators(scaled_stplus_df, baseline_preds_stplus_df, preds_by_sf_stplus)"
   ]
  },
  {
   "cell_type": "code",
   "execution_count": null,
   "metadata": {
    "colab": {
     "base_uri": "https://localhost:8080/"
    },
    "executionInfo": {
     "elapsed": 6,
     "status": "ok",
     "timestamp": 1734791364912,
     "user": {
      "displayName": "Andres Diaz-Pace",
      "userId": "06774295198865754437"
     },
     "user_tz": 180
    },
    "id": "nVj84NcL9Jy_",
    "outputId": "f17e27bb-0d19-4ea3-f838-f567c9827880"
   },
   "outputs": [],
   "source": [
    "def plot_metric(df, x, y, color='blue', y_label=None, x_offset=0.1,\n",
    "                baseline=None, baseline_lb=None):\n",
    "  if y_label is None:\n",
    "    y_label = y\n",
    "  plt.plot(df[x], df[y], color=color, marker='o', label=y_label)\n",
    "  if baseline is not None:\n",
    "    plt.axhline(y=baseline, color=color, linestyle='--', linewidth=2.5)\n",
    "    if baseline_lb is not None:\n",
    "      plt.text(x_offset, baseline+0.02, baseline_lb)\n",
    "  plt.legend()"
   ]
  },
  {
   "cell_type": "code",
   "execution_count": 17,
   "metadata": {
    "colab": {
     "base_uri": "https://localhost:8080/"
    },
    "executionInfo": {
     "elapsed": 273,
     "status": "ok",
     "timestamp": 1734791365181,
     "user": {
      "displayName": "Andres Diaz-Pace",
      "userId": "06774295198865754437"
     },
     "user_tz": 180
    },
    "id": "D3X-yRwvjJYu",
    "outputId": "746992ac-8b4b-4d41-d3ce-27281d6a4ab3"
   },
   "outputs": [],
   "source": [
    "BASELINE_STPLUS = \"https://raw.githubusercontent.com/andresdp/architecture-surrogates/refs/heads/main/results/baseline_stplus.csv\"\n",
    "BASELINE_COCOME = \"https://raw.githubusercontent.com/andresdp/architecture-surrogates/refs/heads/main/results/baseline_cocome.csv\"\n",
    "\n",
    "df_baseline_stplus = pd.read_csv(BASELINE_STPLUS)\n",
    "df_baseline_cocome = pd.read_csv(BASELINE_COCOME)"
   ]
  },
  {
   "cell_type": "code",
   "execution_count": 18,
   "metadata": {
    "colab": {
     "base_uri": "https://localhost:8080/",
     "height": 489
    },
    "executionInfo": {
     "elapsed": 904,
     "status": "ok",
     "timestamp": 1734791366082,
     "user": {
      "displayName": "Andres Diaz-Pace",
      "userId": "06774295198865754437"
     },
     "user_tz": 180
    },
    "id": "FiKmyNXGBwkJ",
    "outputId": "0b9889d2-4dfe-4e6b-bd8e-83de9f109e30"
   },
   "outputs": [
    {
     "data": {
      "image/png": "[encoded data removed]",
      "text/plain": [
       "<Figure size 640x480 with 1 Axes>"
      ]
     },
     "metadata": {},
     "output_type": "display_data"
    }
   ],
   "source": [
    "# STPlus\n",
    "bl = df_baseline_stplus.at[1,'MSE']\n",
    "plot_metric(df_metrics_stplus_all, 'n_queries', 'MSE', color='blue', y_label='MSE-s',\n",
    "            baseline=bl, baseline_lb='MSE baseline (all)')\n",
    "bl = df_baseline_stplus.at[1,'RMSE']\n",
    "plot_metric(df_metrics_stplus_all, 'n_queries', 'RMSE', color='red', y_label='RMSE-s',\n",
    "            baseline=bl, baseline_lb='RMSE baseline (all)')\n",
    "bl = df_baseline_stplus.at[1,'MAE']\n",
    "plot_metric(df_metrics_stplus_all, 'n_queries', 'MAE', color='green', y_label='MAE-s',\n",
    "            baseline=bl, baseline_lb='MAE baseline (all)', x_offset=0.5)\n",
    "\n",
    "plt.xlabel(\"sampling fraction\")\n",
    "plt.ylabel(\"metric(s)\")\n",
    "plt.xlim(0,1)\n",
    "plt.title(\"STPlus - Incremental strategy (all predictions)\")\n",
    "plt.show()"
   ]
  },
  {
   "cell_type": "code",
   "execution_count": 19,
   "metadata": {
    "colab": {
     "base_uri": "https://localhost:8080/",
     "height": 489
    },
    "executionInfo": {
     "elapsed": 1810,
     "status": "ok",
     "timestamp": 1734791367890,
     "user": {
      "displayName": "Andres Diaz-Pace",
      "userId": "06774295198865754437"
     },
     "user_tz": 180
    },
    "id": "7tx0huK7B455",
    "outputId": "178b3955-5f62-4dee-9629-84d832c0e6f2"
   },
   "outputs": [
    {
     "data": {
      "image/png": "[encoded data removed]",
      "text/plain": [
       "<Figure size 640x480 with 1 Axes>"
      ]
     },
     "metadata": {},
     "output_type": "display_data"
    }
   ],
   "source": [
    "# STPlus\n",
    "bl = df_baseline_stplus.at[1,'RMSE']\n",
    "plot_metric(df_metrics_stplus_all, 'n_queries', 'RMSE', color='blue', y_label='RMSE-s',\n",
    "            baseline=bl, baseline_lb='RMSE baseline (all)')\n",
    "bl = df_baseline_stplus.at[1,'R2']\n",
    "plot_metric(df_metrics_stplus_all, 'n_queries', 'R2', color='red', y_label='R2-s',\n",
    "            baseline=bl, baseline_lb='R2 baseline (all)', x_offset=0.2)\n",
    "\n",
    "plt.xlabel(\"sampling factor\")\n",
    "plt.ylabel(\"metric(s)\")\n",
    "plt.title(\"STPlus - Incremental strategy (all predictions)\")\n",
    "plt.ylim(0,1.1)\n",
    "plt.xlim(0,0.6)\n",
    "plt.savefig(\"stplus-r2rmse.pdf\", format='pdf')\n",
    "plt.show()"
   ]
  },
  {
   "cell_type": "code",
   "execution_count": 20,
   "metadata": {
    "colab": {
     "base_uri": "https://localhost:8080/"
    },
    "executionInfo": {
     "elapsed": 15,
     "status": "ok",
     "timestamp": 1734791367891,
     "user": {
      "displayName": "Andres Diaz-Pace",
      "userId": "06774295198865754437"
     },
     "user_tz": 180
    },
    "id": "BxUC-GimXbQF",
    "outputId": "3bffb3a2-28a0-4425-b35a-37e4680ee0af"
   },
   "outputs": [],
   "source": [
    "# Compute MOO indicators for CoCoME with respect to the ground truth\n",
    "# results_cocome = compute_incremental_moo_indicators(scaled_cocome_df, baseline_preds_cocome_df, preds_by_sf_cocome)"
   ]
  },
  {
   "cell_type": "code",
   "execution_count": 21,
   "metadata": {
    "colab": {
     "base_uri": "https://localhost:8080/",
     "height": 142
    },
    "executionInfo": {
     "elapsed": 14,
     "status": "ok",
     "timestamp": 1734791367891,
     "user": {
      "displayName": "Andres Diaz-Pace",
      "userId": "06774295198865754437"
     },
     "user_tz": 180
    },
    "id": "bZJsHZtrDM83",
    "outputId": "b566012a-a3ab-4abc-afb3-1488155da3f7"
   },
   "outputs": [
    {
     "data": {
      "text/html": [
       "<div>\n",
       "<style scoped>\n",
       "    .dataframe tbody tr th:only-of-type {\n",
       "        vertical-align: middle;\n",
       "    }\n",
       "\n",
       "    .dataframe tbody tr th {\n",
       "        vertical-align: top;\n",
       "    }\n",
       "\n",
       "    .dataframe thead th {\n",
       "        text-align: right;\n",
       "    }\n",
       "</style>\n",
       "<table border=\"1\" class=\"dataframe\">\n",
       "  <thead>\n",
       "    <tr style=\"text-align: right;\">\n",
       "      <th></th>\n",
       "      <th>exp</th>\n",
       "      <th>size</th>\n",
       "      <th>features</th>\n",
       "      <th>R2</th>\n",
       "      <th>MSE</th>\n",
       "      <th>RMSE</th>\n",
       "      <th>MAE</th>\n",
       "      <th>MAPE</th>\n",
       "      <th>time</th>\n",
       "    </tr>\n",
       "  </thead>\n",
       "  <tbody>\n",
       "    <tr>\n",
       "      <th>0</th>\n",
       "      <td>naive - test set</td>\n",
       "      <td>596</td>\n",
       "      <td>919</td>\n",
       "      <td>0.562448</td>\n",
       "      <td>0.437552</td>\n",
       "      <td>0.661477</td>\n",
       "      <td>0.209295</td>\n",
       "      <td>2.049106</td>\n",
       "      <td>9.101941</td>\n",
       "    </tr>\n",
       "    <tr>\n",
       "      <th>1</th>\n",
       "      <td>naive - whole set</td>\n",
       "      <td>1192</td>\n",
       "      <td>919</td>\n",
       "      <td>0.655811</td>\n",
       "      <td>0.344189</td>\n",
       "      <td>0.586677</td>\n",
       "      <td>0.159475</td>\n",
       "      <td>48.199236</td>\n",
       "      <td>9.101941</td>\n",
       "    </tr>\n",
       "  </tbody>\n",
       "</table>\n",
       "</div>"
      ],
      "text/plain": [
       "                 exp  size  features        R2       MSE      RMSE       MAE  \\\n",
       "0   naive - test set   596       919  0.562448  0.437552  0.661477  0.209295   \n",
       "1  naive - whole set  1192       919  0.655811  0.344189  0.586677  0.159475   \n",
       "\n",
       "        MAPE      time  \n",
       "0   2.049106  9.101941  \n",
       "1  48.199236  9.101941  "
      ]
     },
     "execution_count": 21,
     "metadata": {},
     "output_type": "execute_result"
    }
   ],
   "source": [
    "df_baseline_cocome"
   ]
  },
  {
   "cell_type": "code",
   "execution_count": 22,
   "metadata": {
    "colab": {
     "base_uri": "https://localhost:8080/",
     "height": 489
    },
    "executionInfo": {
     "elapsed": 11,
     "status": "ok",
     "timestamp": 1734791367891,
     "user": {
      "displayName": "Andres Diaz-Pace",
      "userId": "06774295198865754437"
     },
     "user_tz": 180
    },
    "id": "WS2DnW1sCegG",
    "outputId": "3945f5b3-0ed5-40b5-8c2c-d7daf43b481c"
   },
   "outputs": [
    {
     "data": {
      "image/png": "[encoded data removed]",
      "text/plain": [
       "<Figure size 640x480 with 1 Axes>"
      ]
     },
     "metadata": {},
     "output_type": "display_data"
    }
   ],
   "source": [
    "# CoCoME\n",
    "bl = df_baseline_cocome.at[1,'MSE']\n",
    "plot_metric(df_metrics_cocome_all, 'n_queries', 'MSE', color='blue', y_label='MSE-s',\n",
    "            baseline=bl, baseline_lb='MSE baseline (all)')\n",
    "bl = df_baseline_cocome.at[1,'RMSE']\n",
    "plot_metric(df_metrics_cocome_all, 'n_queries', 'RMSE', color='red', y_label='RMSE-s',\n",
    "            baseline=bl, baseline_lb='RMSE baseline (all)')\n",
    "bl = df_baseline_cocome.at[1,'MAE']\n",
    "plot_metric(df_metrics_cocome_all, 'n_queries', 'MAE', color='green', y_label='MAE-s',\n",
    "            baseline=bl, baseline_lb='MAE baseline (all)', x_offset=0.5)\n",
    "\n",
    "plt.xlabel(\"sampling fraction\")\n",
    "plt.ylabel(\"metric(s)\")\n",
    "plt.xlim(0,1)\n",
    "plt.title(\"CoCoME - Incremental strategy (all predictions)\")\n",
    "plt.show()"
   ]
  },
  {
   "cell_type": "code",
   "execution_count": 23,
   "metadata": {
    "colab": {
     "base_uri": "https://localhost:8080/",
     "height": 489
    },
    "executionInfo": {
     "elapsed": 893,
     "status": "ok",
     "timestamp": 1734791368775,
     "user": {
      "displayName": "Andres Diaz-Pace",
      "userId": "06774295198865754437"
     },
     "user_tz": 180
    },
    "id": "vP3C5g2gCxIL",
    "outputId": "f0f43bec-11c4-4c14-e95d-5301c44b0114"
   },
   "outputs": [
    {
     "data": {
      "image/png": "[encoded data removed]",
      "text/plain": [
       "<Figure size 640x480 with 1 Axes>"
      ]
     },
     "metadata": {},
     "output_type": "display_data"
    }
   ],
   "source": [
    "# CoCoME\n",
    "bl = df_baseline_cocome.at[1,'RMSE']\n",
    "plot_metric(df_metrics_cocome_all, 'n_queries', 'RMSE', color='blue', y_label='RMSE-s',\n",
    "            baseline=bl, baseline_lb='RMSE baseline (all)')\n",
    "bl = df_baseline_cocome.at[1,'R2']\n",
    "plot_metric(df_metrics_cocome_all, 'n_queries', 'R2', color='red', y_label='R2-s',\n",
    "            baseline=bl, baseline_lb='R2 baseline (all)')\n",
    "\n",
    "plt.xlabel(\"sampling factor\")\n",
    "plt.ylabel(\"metric(s)\")\n",
    "plt.ylim(0,1)\n",
    "plt.xlim(0,0.6)\n",
    "plt.title(\"CoCoME - Incremental strategy (all predictions)\")\n",
    "plt.savefig(\"cocome-r2rmse.pdf\", format='pdf')\n",
    "plt.show()"
   ]
  },
  {
   "cell_type": "code",
   "execution_count": 24,
   "metadata": {
    "colab": {
     "base_uri": "https://localhost:8080/",
     "height": 380
    },
    "executionInfo": {
     "elapsed": 24,
     "status": "ok",
     "timestamp": 1734791368775,
     "user": {
      "displayName": "Andres Diaz-Pace",
      "userId": "06774295198865754437"
     },
     "user_tz": 180
    },
    "id": "rysRRvs_BSQr",
    "outputId": "11795a36-5ba1-401a-8234-3dac26b0ee47"
   },
   "outputs": [
    {
     "data": {
      "text/html": [
       "<div>\n",
       "<style scoped>\n",
       "    .dataframe tbody tr th:only-of-type {\n",
       "        vertical-align: middle;\n",
       "    }\n",
       "\n",
       "    .dataframe tbody tr th {\n",
       "        vertical-align: top;\n",
       "    }\n",
       "\n",
       "    .dataframe thead th {\n",
       "        text-align: right;\n",
       "    }\n",
       "</style>\n",
       "<table border=\"1\" class=\"dataframe\">\n",
       "  <thead>\n",
       "    <tr style=\"text-align: right;\">\n",
       "      <th></th>\n",
       "      <th>exp</th>\n",
       "      <th>size</th>\n",
       "      <th>features</th>\n",
       "      <th>queries</th>\n",
       "      <th>time</th>\n",
       "      <th>R2</th>\n",
       "      <th>MSE</th>\n",
       "      <th>RMSE</th>\n",
       "      <th>MAE</th>\n",
       "      <th>MAPE</th>\n",
       "      <th>n_queries</th>\n",
       "      <th>case</th>\n",
       "    </tr>\n",
       "  </thead>\n",
       "  <tbody>\n",
       "    <tr>\n",
       "      <th>0</th>\n",
       "      <td>incremental - all</td>\n",
       "      <td>454</td>\n",
       "      <td>734</td>\n",
       "      <td>72</td>\n",
       "      <td>3.738188</td>\n",
       "      <td>0.420027</td>\n",
       "      <td>0.579973</td>\n",
       "      <td>0.761560</td>\n",
       "      <td>0.324268</td>\n",
       "      <td>0.799581</td>\n",
       "      <td>0.1</td>\n",
       "      <td>stplus-incremental</td>\n",
       "    </tr>\n",
       "    <tr>\n",
       "      <th>1</th>\n",
       "      <td>incremental - all</td>\n",
       "      <td>454</td>\n",
       "      <td>734</td>\n",
       "      <td>115</td>\n",
       "      <td>4.355682</td>\n",
       "      <td>0.638420</td>\n",
       "      <td>0.361580</td>\n",
       "      <td>0.601315</td>\n",
       "      <td>0.219228</td>\n",
       "      <td>0.624820</td>\n",
       "      <td>0.2</td>\n",
       "      <td>stplus-incremental</td>\n",
       "    </tr>\n",
       "    <tr>\n",
       "      <th>2</th>\n",
       "      <td>incremental - all</td>\n",
       "      <td>454</td>\n",
       "      <td>734</td>\n",
       "      <td>157</td>\n",
       "      <td>4.927842</td>\n",
       "      <td>0.839724</td>\n",
       "      <td>0.160276</td>\n",
       "      <td>0.400344</td>\n",
       "      <td>0.140052</td>\n",
       "      <td>0.410203</td>\n",
       "      <td>0.3</td>\n",
       "      <td>stplus-incremental</td>\n",
       "    </tr>\n",
       "    <tr>\n",
       "      <th>3</th>\n",
       "      <td>incremental - all</td>\n",
       "      <td>454</td>\n",
       "      <td>734</td>\n",
       "      <td>200</td>\n",
       "      <td>4.537649</td>\n",
       "      <td>0.871057</td>\n",
       "      <td>0.128943</td>\n",
       "      <td>0.359087</td>\n",
       "      <td>0.116617</td>\n",
       "      <td>0.362951</td>\n",
       "      <td>0.4</td>\n",
       "      <td>stplus-incremental</td>\n",
       "    </tr>\n",
       "    <tr>\n",
       "      <th>4</th>\n",
       "      <td>incremental - all</td>\n",
       "      <td>454</td>\n",
       "      <td>734</td>\n",
       "      <td>242</td>\n",
       "      <td>4.654522</td>\n",
       "      <td>0.879361</td>\n",
       "      <td>0.120639</td>\n",
       "      <td>0.347331</td>\n",
       "      <td>0.110716</td>\n",
       "      <td>0.336533</td>\n",
       "      <td>0.5</td>\n",
       "      <td>stplus-incremental</td>\n",
       "    </tr>\n",
       "    <tr>\n",
       "      <th>5</th>\n",
       "      <td>incremental - all</td>\n",
       "      <td>1192</td>\n",
       "      <td>919</td>\n",
       "      <td>231</td>\n",
       "      <td>66.696487</td>\n",
       "      <td>0.338095</td>\n",
       "      <td>0.661905</td>\n",
       "      <td>0.813575</td>\n",
       "      <td>0.276066</td>\n",
       "      <td>0.935466</td>\n",
       "      <td>0.1</td>\n",
       "      <td>cocome-incremental</td>\n",
       "    </tr>\n",
       "    <tr>\n",
       "      <th>6</th>\n",
       "      <td>incremental - all</td>\n",
       "      <td>1192</td>\n",
       "      <td>919</td>\n",
       "      <td>338</td>\n",
       "      <td>70.989174</td>\n",
       "      <td>0.443947</td>\n",
       "      <td>0.556053</td>\n",
       "      <td>0.745690</td>\n",
       "      <td>0.252906</td>\n",
       "      <td>0.594637</td>\n",
       "      <td>0.2</td>\n",
       "      <td>cocome-incremental</td>\n",
       "    </tr>\n",
       "    <tr>\n",
       "      <th>7</th>\n",
       "      <td>incremental - all</td>\n",
       "      <td>1192</td>\n",
       "      <td>919</td>\n",
       "      <td>445</td>\n",
       "      <td>72.005198</td>\n",
       "      <td>0.516388</td>\n",
       "      <td>0.483612</td>\n",
       "      <td>0.695422</td>\n",
       "      <td>0.245403</td>\n",
       "      <td>0.636324</td>\n",
       "      <td>0.3</td>\n",
       "      <td>cocome-incremental</td>\n",
       "    </tr>\n",
       "    <tr>\n",
       "      <th>8</th>\n",
       "      <td>incremental - all</td>\n",
       "      <td>1192</td>\n",
       "      <td>919</td>\n",
       "      <td>552</td>\n",
       "      <td>77.306337</td>\n",
       "      <td>0.588712</td>\n",
       "      <td>0.411288</td>\n",
       "      <td>0.641317</td>\n",
       "      <td>0.233612</td>\n",
       "      <td>0.588609</td>\n",
       "      <td>0.4</td>\n",
       "      <td>cocome-incremental</td>\n",
       "    </tr>\n",
       "    <tr>\n",
       "      <th>9</th>\n",
       "      <td>incremental - all</td>\n",
       "      <td>1192</td>\n",
       "      <td>919</td>\n",
       "      <td>658</td>\n",
       "      <td>78.070003</td>\n",
       "      <td>0.651903</td>\n",
       "      <td>0.348097</td>\n",
       "      <td>0.589997</td>\n",
       "      <td>0.217834</td>\n",
       "      <td>0.539427</td>\n",
       "      <td>0.5</td>\n",
       "      <td>cocome-incremental</td>\n",
       "    </tr>\n",
       "  </tbody>\n",
       "</table>\n",
       "</div>"
      ],
      "text/plain": [
       "                 exp  size  features  queries       time        R2       MSE  \\\n",
       "0  incremental - all   454       734       72   3.738188  0.420027  0.579973   \n",
       "1  incremental - all   454       734      115   4.355682  0.638420  0.361580   \n",
       "2  incremental - all   454       734      157   4.927842  0.839724  0.160276   \n",
       "3  incremental - all   454       734      200   4.537649  0.871057  0.128943   \n",
       "4  incremental - all   454       734      242   4.654522  0.879361  0.120639   \n",
       "5  incremental - all  1192       919      231  66.696487  0.338095  0.661905   \n",
       "6  incremental - all  1192       919      338  70.989174  0.443947  0.556053   \n",
       "7  incremental - all  1192       919      445  72.005198  0.516388  0.483612   \n",
       "8  incremental - all  1192       919      552  77.306337  0.588712  0.411288   \n",
       "9  incremental - all  1192       919      658  78.070003  0.651903  0.348097   \n",
       "\n",
       "       RMSE       MAE      MAPE  n_queries                case  \n",
       "0  0.761560  0.324268  0.799581        0.1  stplus-incremental  \n",
       "1  0.601315  0.219228  0.624820        0.2  stplus-incremental  \n",
       "2  0.400344  0.140052  0.410203        0.3  stplus-incremental  \n",
       "3  0.359087  0.116617  0.362951        0.4  stplus-incremental  \n",
       "4  0.347331  0.110716  0.336533        0.5  stplus-incremental  \n",
       "5  0.813575  0.276066  0.935466        0.1  cocome-incremental  \n",
       "6  0.745690  0.252906  0.594637        0.2  cocome-incremental  \n",
       "7  0.695422  0.245403  0.636324        0.3  cocome-incremental  \n",
       "8  0.641317  0.233612  0.588609        0.4  cocome-incremental  \n",
       "9  0.589997  0.217834  0.539427        0.5  cocome-incremental  "
      ]
     },
     "execution_count": 24,
     "metadata": {},
     "output_type": "execute_result"
    }
   ],
   "source": [
    "df_metrics_cocome_all['case'] = 'cocome-incremental'\n",
    "df_metrics_stplus_all['case'] = 'stplus-incremental'\n",
    "df_metrics_both_all = pd.concat([df_metrics_stplus_all, df_metrics_cocome_all]).reset_index(drop=True)\n",
    "df_metrics_both_all"
   ]
  },
  {
   "cell_type": "code",
   "execution_count": 25,
   "metadata": {
    "colab": {
     "base_uri": "https://localhost:8080/"
    },
    "executionInfo": {
     "elapsed": 21,
     "status": "ok",
     "timestamp": 1734791368775,
     "user": {
      "displayName": "Andres Diaz-Pace",
      "userId": "06774295198865754437"
     },
     "user_tz": 180
    },
    "id": "UCYgYJ2FO07h",
    "outputId": "e1cfd003-67d2-4984-f42f-ca50d9335910"
   },
   "outputs": [
    {
     "name": "stdout",
     "output_type": "stream",
     "text": [
      "stplus-incremental\n",
      "n_queries: 0.1 3.738188401999992 454\n",
      "n_queries: 0.2 4.355681840000045 454\n",
      "n_queries: 0.3 4.927841681000018 454\n",
      "n_queries: 0.4 4.537649095000006 454\n",
      "n_queries: 0.5 4.654521721000037 454\n",
      "\n",
      "cocome-incremental\n",
      "n_queries: 0.1 66.69648732099995 1192\n",
      "n_queries: 0.2 70.98917424900003 1192\n",
      "n_queries: 0.3 72.00519757300003 1192\n",
      "n_queries: 0.4 77.30633732399997 1192\n",
      "n_queries: 0.5 78.0700029169999 1192\n"
     ]
    }
   ],
   "source": [
    "# Assumptions\n",
    "# - transformation of arch. instances in STPLUS = 30 secs (approximately)\n",
    "# - transformation of arch. instances in COCOME = 1 min (approximately)\n",
    "\n",
    "def estimate_computation_times(n_instances, sampling_fraction, solver_average_execution, surrogate_execution):\n",
    "  total_computation_time = n_instances * solver_average_execution\n",
    "  surrogate_computation_time = n_instances*sampling_fraction*solver_average_execution + surrogate_execution\n",
    "  return total_computation_time, surrogate_computation_time\n",
    "\n",
    "def compute_time_for_casestudy(case_study, solver_average_execution, ninstances, df):\n",
    "  df_metrics = df[df['case']==case_study]\n",
    "  times = []\n",
    "  for n in df_metrics['n_queries']:\n",
    "    #print(\"-\"*50)\n",
    "    se = df_metrics[df_metrics['n_queries']==n]['time'].tolist()[0]\n",
    "    print(\"n_queries:\", n, se, ninstances)\n",
    "    tct, sct = estimate_computation_times(ninstances, n, solver_average_execution, se)\n",
    "    #print(tct, sct)\n",
    "    times.append(sct)\n",
    "\n",
    "  return tct, times\n",
    "\n",
    "\n",
    "case_study = 'stplus-incremental'\n",
    "sae = 30 # in secs\n",
    "print(case_study)\n",
    "total_time_stplus, times_stplus = compute_time_for_casestudy(case_study, sae, scaled_stplus_df.shape[0], df_metrics_both_all)\n",
    "\n",
    "print()\n",
    "case_study = 'cocome-incremental'\n",
    "sae = 60 # in secs\n",
    "print(case_study)\n",
    "total_time_cocome, times_cocome = compute_time_for_casestudy(case_study, sae, scaled_cocome_df.shape[0], df_metrics_both_all)"
   ]
  },
  {
   "cell_type": "code",
   "execution_count": 26,
   "metadata": {
    "colab": {
     "base_uri": "https://localhost:8080/"
    },
    "executionInfo": {
     "elapsed": 18,
     "status": "ok",
     "timestamp": 1734791368775,
     "user": {
      "displayName": "Andres Diaz-Pace",
      "userId": "06774295198865754437"
     },
     "user_tz": 180
    },
    "id": "w5RGCseSh-lW",
    "outputId": "a5360ff3-72e7-4226-8baf-9cc1e42e0000"
   },
   "outputs": [
    {
     "name": "stdout",
     "output_type": "stream",
     "text": [
      "Total time (solvers) - ST+= 13620\n",
      "Total time (solvers) - CoCoME= 71520\n"
     ]
    }
   ],
   "source": [
    "print(\"Total time (solvers) - ST+=\", total_time_stplus)\n",
    "print(\"Total time (solvers) - CoCoME=\", total_time_cocome)"
   ]
  },
  {
   "cell_type": "code",
   "execution_count": 27,
   "metadata": {
    "colab": {
     "base_uri": "https://localhost:8080/",
     "height": 380
    },
    "executionInfo": {
     "elapsed": 16,
     "status": "ok",
     "timestamp": 1734791368776,
     "user": {
      "displayName": "Andres Diaz-Pace",
      "userId": "06774295198865754437"
     },
     "user_tz": 180
    },
    "id": "IKizMEiSLtYf",
    "outputId": "ba4cc636-fe6a-4538-c157-f4aaf977eb5b"
   },
   "outputs": [
    {
     "data": {
      "text/html": [
       "<div>\n",
       "<style scoped>\n",
       "    .dataframe tbody tr th:only-of-type {\n",
       "        vertical-align: middle;\n",
       "    }\n",
       "\n",
       "    .dataframe tbody tr th {\n",
       "        vertical-align: top;\n",
       "    }\n",
       "\n",
       "    .dataframe thead th {\n",
       "        text-align: right;\n",
       "    }\n",
       "</style>\n",
       "<table border=\"1\" class=\"dataframe\">\n",
       "  <thead>\n",
       "    <tr style=\"text-align: right;\">\n",
       "      <th></th>\n",
       "      <th>exp</th>\n",
       "      <th>size</th>\n",
       "      <th>features</th>\n",
       "      <th>queries</th>\n",
       "      <th>time</th>\n",
       "      <th>R2</th>\n",
       "      <th>MSE</th>\n",
       "      <th>RMSE</th>\n",
       "      <th>MAE</th>\n",
       "      <th>MAPE</th>\n",
       "      <th>n_queries</th>\n",
       "      <th>case</th>\n",
       "      <th>computation_time</th>\n",
       "    </tr>\n",
       "  </thead>\n",
       "  <tbody>\n",
       "    <tr>\n",
       "      <th>0</th>\n",
       "      <td>incremental - all</td>\n",
       "      <td>454</td>\n",
       "      <td>734</td>\n",
       "      <td>72</td>\n",
       "      <td>3.738188</td>\n",
       "      <td>0.420027</td>\n",
       "      <td>0.579973</td>\n",
       "      <td>0.761560</td>\n",
       "      <td>0.324268</td>\n",
       "      <td>0.799581</td>\n",
       "      <td>0.1</td>\n",
       "      <td>stplus-incremental</td>\n",
       "      <td>1365.738188</td>\n",
       "    </tr>\n",
       "    <tr>\n",
       "      <th>1</th>\n",
       "      <td>incremental - all</td>\n",
       "      <td>454</td>\n",
       "      <td>734</td>\n",
       "      <td>115</td>\n",
       "      <td>4.355682</td>\n",
       "      <td>0.638420</td>\n",
       "      <td>0.361580</td>\n",
       "      <td>0.601315</td>\n",
       "      <td>0.219228</td>\n",
       "      <td>0.624820</td>\n",
       "      <td>0.2</td>\n",
       "      <td>stplus-incremental</td>\n",
       "      <td>2728.355682</td>\n",
       "    </tr>\n",
       "    <tr>\n",
       "      <th>2</th>\n",
       "      <td>incremental - all</td>\n",
       "      <td>454</td>\n",
       "      <td>734</td>\n",
       "      <td>157</td>\n",
       "      <td>4.927842</td>\n",
       "      <td>0.839724</td>\n",
       "      <td>0.160276</td>\n",
       "      <td>0.400344</td>\n",
       "      <td>0.140052</td>\n",
       "      <td>0.410203</td>\n",
       "      <td>0.3</td>\n",
       "      <td>stplus-incremental</td>\n",
       "      <td>4090.927842</td>\n",
       "    </tr>\n",
       "    <tr>\n",
       "      <th>3</th>\n",
       "      <td>incremental - all</td>\n",
       "      <td>454</td>\n",
       "      <td>734</td>\n",
       "      <td>200</td>\n",
       "      <td>4.537649</td>\n",
       "      <td>0.871057</td>\n",
       "      <td>0.128943</td>\n",
       "      <td>0.359087</td>\n",
       "      <td>0.116617</td>\n",
       "      <td>0.362951</td>\n",
       "      <td>0.4</td>\n",
       "      <td>stplus-incremental</td>\n",
       "      <td>5452.537649</td>\n",
       "    </tr>\n",
       "    <tr>\n",
       "      <th>4</th>\n",
       "      <td>incremental - all</td>\n",
       "      <td>454</td>\n",
       "      <td>734</td>\n",
       "      <td>242</td>\n",
       "      <td>4.654522</td>\n",
       "      <td>0.879361</td>\n",
       "      <td>0.120639</td>\n",
       "      <td>0.347331</td>\n",
       "      <td>0.110716</td>\n",
       "      <td>0.336533</td>\n",
       "      <td>0.5</td>\n",
       "      <td>stplus-incremental</td>\n",
       "      <td>6814.654522</td>\n",
       "    </tr>\n",
       "    <tr>\n",
       "      <th>5</th>\n",
       "      <td>incremental - all</td>\n",
       "      <td>1192</td>\n",
       "      <td>919</td>\n",
       "      <td>231</td>\n",
       "      <td>66.696487</td>\n",
       "      <td>0.338095</td>\n",
       "      <td>0.661905</td>\n",
       "      <td>0.813575</td>\n",
       "      <td>0.276066</td>\n",
       "      <td>0.935466</td>\n",
       "      <td>0.1</td>\n",
       "      <td>cocome-incremental</td>\n",
       "      <td>7218.696487</td>\n",
       "    </tr>\n",
       "    <tr>\n",
       "      <th>6</th>\n",
       "      <td>incremental - all</td>\n",
       "      <td>1192</td>\n",
       "      <td>919</td>\n",
       "      <td>338</td>\n",
       "      <td>70.989174</td>\n",
       "      <td>0.443947</td>\n",
       "      <td>0.556053</td>\n",
       "      <td>0.745690</td>\n",
       "      <td>0.252906</td>\n",
       "      <td>0.594637</td>\n",
       "      <td>0.2</td>\n",
       "      <td>cocome-incremental</td>\n",
       "      <td>14374.989174</td>\n",
       "    </tr>\n",
       "    <tr>\n",
       "      <th>7</th>\n",
       "      <td>incremental - all</td>\n",
       "      <td>1192</td>\n",
       "      <td>919</td>\n",
       "      <td>445</td>\n",
       "      <td>72.005198</td>\n",
       "      <td>0.516388</td>\n",
       "      <td>0.483612</td>\n",
       "      <td>0.695422</td>\n",
       "      <td>0.245403</td>\n",
       "      <td>0.636324</td>\n",
       "      <td>0.3</td>\n",
       "      <td>cocome-incremental</td>\n",
       "      <td>21528.005198</td>\n",
       "    </tr>\n",
       "    <tr>\n",
       "      <th>8</th>\n",
       "      <td>incremental - all</td>\n",
       "      <td>1192</td>\n",
       "      <td>919</td>\n",
       "      <td>552</td>\n",
       "      <td>77.306337</td>\n",
       "      <td>0.588712</td>\n",
       "      <td>0.411288</td>\n",
       "      <td>0.641317</td>\n",
       "      <td>0.233612</td>\n",
       "      <td>0.588609</td>\n",
       "      <td>0.4</td>\n",
       "      <td>cocome-incremental</td>\n",
       "      <td>28685.306337</td>\n",
       "    </tr>\n",
       "    <tr>\n",
       "      <th>9</th>\n",
       "      <td>incremental - all</td>\n",
       "      <td>1192</td>\n",
       "      <td>919</td>\n",
       "      <td>658</td>\n",
       "      <td>78.070003</td>\n",
       "      <td>0.651903</td>\n",
       "      <td>0.348097</td>\n",
       "      <td>0.589997</td>\n",
       "      <td>0.217834</td>\n",
       "      <td>0.539427</td>\n",
       "      <td>0.5</td>\n",
       "      <td>cocome-incremental</td>\n",
       "      <td>35838.070003</td>\n",
       "    </tr>\n",
       "  </tbody>\n",
       "</table>\n",
       "</div>"
      ],
      "text/plain": [
       "                 exp  size  features  queries       time        R2       MSE  \\\n",
       "0  incremental - all   454       734       72   3.738188  0.420027  0.579973   \n",
       "1  incremental - all   454       734      115   4.355682  0.638420  0.361580   \n",
       "2  incremental - all   454       734      157   4.927842  0.839724  0.160276   \n",
       "3  incremental - all   454       734      200   4.537649  0.871057  0.128943   \n",
       "4  incremental - all   454       734      242   4.654522  0.879361  0.120639   \n",
       "5  incremental - all  1192       919      231  66.696487  0.338095  0.661905   \n",
       "6  incremental - all  1192       919      338  70.989174  0.443947  0.556053   \n",
       "7  incremental - all  1192       919      445  72.005198  0.516388  0.483612   \n",
       "8  incremental - all  1192       919      552  77.306337  0.588712  0.411288   \n",
       "9  incremental - all  1192       919      658  78.070003  0.651903  0.348097   \n",
       "\n",
       "       RMSE       MAE      MAPE  n_queries                case  \\\n",
       "0  0.761560  0.324268  0.799581        0.1  stplus-incremental   \n",
       "1  0.601315  0.219228  0.624820        0.2  stplus-incremental   \n",
       "2  0.400344  0.140052  0.410203        0.3  stplus-incremental   \n",
       "3  0.359087  0.116617  0.362951        0.4  stplus-incremental   \n",
       "4  0.347331  0.110716  0.336533        0.5  stplus-incremental   \n",
       "5  0.813575  0.276066  0.935466        0.1  cocome-incremental   \n",
       "6  0.745690  0.252906  0.594637        0.2  cocome-incremental   \n",
       "7  0.695422  0.245403  0.636324        0.3  cocome-incremental   \n",
       "8  0.641317  0.233612  0.588609        0.4  cocome-incremental   \n",
       "9  0.589997  0.217834  0.539427        0.5  cocome-incremental   \n",
       "\n",
       "   computation_time  \n",
       "0       1365.738188  \n",
       "1       2728.355682  \n",
       "2       4090.927842  \n",
       "3       5452.537649  \n",
       "4       6814.654522  \n",
       "5       7218.696487  \n",
       "6      14374.989174  \n",
       "7      21528.005198  \n",
       "8      28685.306337  \n",
       "9      35838.070003  "
      ]
     },
     "execution_count": 27,
     "metadata": {},
     "output_type": "execute_result"
    }
   ],
   "source": [
    "df_metrics_both_all['computation_time'] = times_stplus + times_cocome\n",
    "df_metrics_both_all"
   ]
  },
  {
   "cell_type": "code",
   "execution_count": 28,
   "metadata": {
    "colab": {
     "base_uri": "https://localhost:8080/",
     "height": 443
    },
    "executionInfo": {
     "elapsed": 12,
     "status": "ok",
     "timestamp": 1734791368776,
     "user": {
      "displayName": "Andres Diaz-Pace",
      "userId": "06774295198865754437"
     },
     "user_tz": 180
    },
    "id": "-dUTTlx8AvRm",
    "outputId": "f90c89ed-dcf7-4b06-cb07-c3486678ea51"
   },
   "outputs": [
    {
     "data": {
      "text/html": [
       "<div>\n",
       "<style scoped>\n",
       "    .dataframe tbody tr th:only-of-type {\n",
       "        vertical-align: middle;\n",
       "    }\n",
       "\n",
       "    .dataframe tbody tr th {\n",
       "        vertical-align: top;\n",
       "    }\n",
       "\n",
       "    .dataframe thead th {\n",
       "        text-align: right;\n",
       "    }\n",
       "</style>\n",
       "<table border=\"1\" class=\"dataframe\">\n",
       "  <thead>\n",
       "    <tr style=\"text-align: right;\">\n",
       "      <th></th>\n",
       "      <th>exp</th>\n",
       "      <th>size</th>\n",
       "      <th>features</th>\n",
       "      <th>queries</th>\n",
       "      <th>time</th>\n",
       "      <th>R2</th>\n",
       "      <th>MSE</th>\n",
       "      <th>RMSE</th>\n",
       "      <th>MAE</th>\n",
       "      <th>MAPE</th>\n",
       "      <th>n_queries</th>\n",
       "      <th>case</th>\n",
       "      <th>computation_time</th>\n",
       "    </tr>\n",
       "  </thead>\n",
       "  <tbody>\n",
       "    <tr>\n",
       "      <th>0</th>\n",
       "      <td>incremental - all</td>\n",
       "      <td>454</td>\n",
       "      <td>734</td>\n",
       "      <td>72</td>\n",
       "      <td>3.738188</td>\n",
       "      <td>0.420027</td>\n",
       "      <td>0.579973</td>\n",
       "      <td>0.761560</td>\n",
       "      <td>0.324268</td>\n",
       "      <td>0.799581</td>\n",
       "      <td>0.1</td>\n",
       "      <td>stplus-incremental</td>\n",
       "      <td>1365.738188</td>\n",
       "    </tr>\n",
       "    <tr>\n",
       "      <th>1</th>\n",
       "      <td>incremental - all</td>\n",
       "      <td>454</td>\n",
       "      <td>734</td>\n",
       "      <td>115</td>\n",
       "      <td>4.355682</td>\n",
       "      <td>0.638420</td>\n",
       "      <td>0.361580</td>\n",
       "      <td>0.601315</td>\n",
       "      <td>0.219228</td>\n",
       "      <td>0.624820</td>\n",
       "      <td>0.2</td>\n",
       "      <td>stplus-incremental</td>\n",
       "      <td>2728.355682</td>\n",
       "    </tr>\n",
       "    <tr>\n",
       "      <th>2</th>\n",
       "      <td>incremental - all</td>\n",
       "      <td>454</td>\n",
       "      <td>734</td>\n",
       "      <td>157</td>\n",
       "      <td>4.927842</td>\n",
       "      <td>0.839724</td>\n",
       "      <td>0.160276</td>\n",
       "      <td>0.400344</td>\n",
       "      <td>0.140052</td>\n",
       "      <td>0.410203</td>\n",
       "      <td>0.3</td>\n",
       "      <td>stplus-incremental</td>\n",
       "      <td>4090.927842</td>\n",
       "    </tr>\n",
       "    <tr>\n",
       "      <th>3</th>\n",
       "      <td>incremental - all</td>\n",
       "      <td>454</td>\n",
       "      <td>734</td>\n",
       "      <td>200</td>\n",
       "      <td>4.537649</td>\n",
       "      <td>0.871057</td>\n",
       "      <td>0.128943</td>\n",
       "      <td>0.359087</td>\n",
       "      <td>0.116617</td>\n",
       "      <td>0.362951</td>\n",
       "      <td>0.4</td>\n",
       "      <td>stplus-incremental</td>\n",
       "      <td>5452.537649</td>\n",
       "    </tr>\n",
       "    <tr>\n",
       "      <th>4</th>\n",
       "      <td>incremental - all</td>\n",
       "      <td>454</td>\n",
       "      <td>734</td>\n",
       "      <td>242</td>\n",
       "      <td>4.654522</td>\n",
       "      <td>0.879361</td>\n",
       "      <td>0.120639</td>\n",
       "      <td>0.347331</td>\n",
       "      <td>0.110716</td>\n",
       "      <td>0.336533</td>\n",
       "      <td>0.5</td>\n",
       "      <td>stplus-incremental</td>\n",
       "      <td>6814.654522</td>\n",
       "    </tr>\n",
       "    <tr>\n",
       "      <th>5</th>\n",
       "      <td>incremental - all</td>\n",
       "      <td>1192</td>\n",
       "      <td>919</td>\n",
       "      <td>231</td>\n",
       "      <td>66.696487</td>\n",
       "      <td>0.338095</td>\n",
       "      <td>0.661905</td>\n",
       "      <td>0.813575</td>\n",
       "      <td>0.276066</td>\n",
       "      <td>0.935466</td>\n",
       "      <td>0.1</td>\n",
       "      <td>cocome-incremental</td>\n",
       "      <td>7218.696487</td>\n",
       "    </tr>\n",
       "    <tr>\n",
       "      <th>6</th>\n",
       "      <td>incremental - all</td>\n",
       "      <td>1192</td>\n",
       "      <td>919</td>\n",
       "      <td>338</td>\n",
       "      <td>70.989174</td>\n",
       "      <td>0.443947</td>\n",
       "      <td>0.556053</td>\n",
       "      <td>0.745690</td>\n",
       "      <td>0.252906</td>\n",
       "      <td>0.594637</td>\n",
       "      <td>0.2</td>\n",
       "      <td>cocome-incremental</td>\n",
       "      <td>14374.989174</td>\n",
       "    </tr>\n",
       "    <tr>\n",
       "      <th>7</th>\n",
       "      <td>incremental - all</td>\n",
       "      <td>1192</td>\n",
       "      <td>919</td>\n",
       "      <td>445</td>\n",
       "      <td>72.005198</td>\n",
       "      <td>0.516388</td>\n",
       "      <td>0.483612</td>\n",
       "      <td>0.695422</td>\n",
       "      <td>0.245403</td>\n",
       "      <td>0.636324</td>\n",
       "      <td>0.3</td>\n",
       "      <td>cocome-incremental</td>\n",
       "      <td>21528.005198</td>\n",
       "    </tr>\n",
       "    <tr>\n",
       "      <th>8</th>\n",
       "      <td>incremental - all</td>\n",
       "      <td>1192</td>\n",
       "      <td>919</td>\n",
       "      <td>552</td>\n",
       "      <td>77.306337</td>\n",
       "      <td>0.588712</td>\n",
       "      <td>0.411288</td>\n",
       "      <td>0.641317</td>\n",
       "      <td>0.233612</td>\n",
       "      <td>0.588609</td>\n",
       "      <td>0.4</td>\n",
       "      <td>cocome-incremental</td>\n",
       "      <td>28685.306337</td>\n",
       "    </tr>\n",
       "    <tr>\n",
       "      <th>9</th>\n",
       "      <td>incremental - all</td>\n",
       "      <td>1192</td>\n",
       "      <td>919</td>\n",
       "      <td>658</td>\n",
       "      <td>78.070003</td>\n",
       "      <td>0.651903</td>\n",
       "      <td>0.348097</td>\n",
       "      <td>0.589997</td>\n",
       "      <td>0.217834</td>\n",
       "      <td>0.539427</td>\n",
       "      <td>0.5</td>\n",
       "      <td>cocome-incremental</td>\n",
       "      <td>35838.070003</td>\n",
       "    </tr>\n",
       "    <tr>\n",
       "      <th>10</th>\n",
       "      <td>naive - whole set</td>\n",
       "      <td>454</td>\n",
       "      <td>734</td>\n",
       "      <td>454</td>\n",
       "      <td>8.234221</td>\n",
       "      <td>0.951501</td>\n",
       "      <td>0.048499</td>\n",
       "      <td>0.220226</td>\n",
       "      <td>0.085331</td>\n",
       "      <td>0.692315</td>\n",
       "      <td>0.5</td>\n",
       "      <td>stplus-solvers</td>\n",
       "      <td>13620.000000</td>\n",
       "    </tr>\n",
       "    <tr>\n",
       "      <th>11</th>\n",
       "      <td>naive - whole set</td>\n",
       "      <td>1192</td>\n",
       "      <td>919</td>\n",
       "      <td>1192</td>\n",
       "      <td>9.101941</td>\n",
       "      <td>0.655811</td>\n",
       "      <td>0.344189</td>\n",
       "      <td>0.586677</td>\n",
       "      <td>0.159475</td>\n",
       "      <td>48.199236</td>\n",
       "      <td>0.5</td>\n",
       "      <td>cocome-solvers</td>\n",
       "      <td>71520.000000</td>\n",
       "    </tr>\n",
       "  </tbody>\n",
       "</table>\n",
       "</div>"
      ],
      "text/plain": [
       "                  exp  size  features  queries       time        R2       MSE  \\\n",
       "0   incremental - all   454       734       72   3.738188  0.420027  0.579973   \n",
       "1   incremental - all   454       734      115   4.355682  0.638420  0.361580   \n",
       "2   incremental - all   454       734      157   4.927842  0.839724  0.160276   \n",
       "3   incremental - all   454       734      200   4.537649  0.871057  0.128943   \n",
       "4   incremental - all   454       734      242   4.654522  0.879361  0.120639   \n",
       "5   incremental - all  1192       919      231  66.696487  0.338095  0.661905   \n",
       "6   incremental - all  1192       919      338  70.989174  0.443947  0.556053   \n",
       "7   incremental - all  1192       919      445  72.005198  0.516388  0.483612   \n",
       "8   incremental - all  1192       919      552  77.306337  0.588712  0.411288   \n",
       "9   incremental - all  1192       919      658  78.070003  0.651903  0.348097   \n",
       "10  naive - whole set   454       734      454   8.234221  0.951501  0.048499   \n",
       "11  naive - whole set  1192       919     1192   9.101941  0.655811  0.344189   \n",
       "\n",
       "        RMSE       MAE       MAPE  n_queries                case  \\\n",
       "0   0.761560  0.324268   0.799581        0.1  stplus-incremental   \n",
       "1   0.601315  0.219228   0.624820        0.2  stplus-incremental   \n",
       "2   0.400344  0.140052   0.410203        0.3  stplus-incremental   \n",
       "3   0.359087  0.116617   0.362951        0.4  stplus-incremental   \n",
       "4   0.347331  0.110716   0.336533        0.5  stplus-incremental   \n",
       "5   0.813575  0.276066   0.935466        0.1  cocome-incremental   \n",
       "6   0.745690  0.252906   0.594637        0.2  cocome-incremental   \n",
       "7   0.695422  0.245403   0.636324        0.3  cocome-incremental   \n",
       "8   0.641317  0.233612   0.588609        0.4  cocome-incremental   \n",
       "9   0.589997  0.217834   0.539427        0.5  cocome-incremental   \n",
       "10  0.220226  0.085331   0.692315        0.5      stplus-solvers   \n",
       "11  0.586677  0.159475  48.199236        0.5      cocome-solvers   \n",
       "\n",
       "    computation_time  \n",
       "0        1365.738188  \n",
       "1        2728.355682  \n",
       "2        4090.927842  \n",
       "3        5452.537649  \n",
       "4        6814.654522  \n",
       "5        7218.696487  \n",
       "6       14374.989174  \n",
       "7       21528.005198  \n",
       "8       28685.306337  \n",
       "9       35838.070003  \n",
       "10      13620.000000  \n",
       "11      71520.000000  "
      ]
     },
     "execution_count": 28,
     "metadata": {},
     "output_type": "execute_result"
    }
   ],
   "source": [
    "df_baseline_stplus_dict = df_baseline_stplus[df_baseline_stplus['exp']=='naive - whole set'].to_dict('records')[0]\n",
    "df_baseline_stplus_dict['queries'] = df_baseline_stplus_dict['size']\n",
    "df_baseline_stplus_dict['n_queries'] = 0.5\n",
    "df_baseline_stplus_dict['computation_time'] = total_time_stplus\n",
    "df_baseline_stplus_dict['case'] = 'stplus-solvers'\n",
    "\n",
    "df_baseline_cocome_dict = df_baseline_cocome[df_baseline_cocome['exp']=='naive - whole set'].to_dict('records')[0]\n",
    "df_baseline_cocome_dict['queries'] = df_baseline_cocome_dict['size']\n",
    "df_baseline_cocome_dict['n_queries'] = 0.5\n",
    "df_baseline_cocome_dict['computation_time'] = total_time_cocome\n",
    "df_baseline_cocome_dict['case'] = 'cocome-solvers'\n",
    "\n",
    "# df_metrics_both_all = df_metrics_both_all.append(df_baseline_stplus_dict, ignore_index=True)\n",
    "# df_metrics_both_all = df_metrics_both_all.append(df_baseline_cocome_dict, ignore_index=True)\n",
    "df_metrics_both_all = pd.concat([df_metrics_both_all, pd.DataFrame([df_baseline_stplus_dict])], ignore_index=True) # Use concat to append rows. Convert dict to DataFrame first.\n",
    "df_metrics_both_all = pd.concat([df_metrics_both_all, pd.DataFrame([df_baseline_cocome_dict])], ignore_index=True) # Use concat to append rows. Convert dict to DataFrame first.\n",
    "df_metrics_both_all"
   ]
  },
  {
   "cell_type": "code",
   "execution_count": 29,
   "metadata": {
    "colab": {
     "base_uri": "https://localhost:8080/",
     "height": 944
    },
    "executionInfo": {
     "elapsed": 1964,
     "status": "ok",
     "timestamp": 1734791370730,
     "user": {
      "displayName": "Andres Diaz-Pace",
      "userId": "06774295198865754437"
     },
     "user_tz": 180
    },
    "id": "TKyUFvwh8ywb",
    "outputId": "7f3e3a28-5cfc-43c0-f1a7-a0f75c5d7513"
   },
   "outputs": [
    {
     "data": {
      "image/png": "[encoded data removed]",
      "text/plain": [
       "<Figure size 640x480 with 1 Axes>"
      ]
     },
     "metadata": {},
     "output_type": "display_data"
    },
    {
     "data": {
      "image/png": "[encoded data removed]",
      "text/plain": [
       "<Figure size 640x480 with 1 Axes>"
      ]
     },
     "metadata": {},
     "output_type": "display_data"
    }
   ],
   "source": [
    "ax = sns.scatterplot(data=df_metrics_both_all, x=\"n_queries\", y=\"time\", size=\"R2\", hue=\"case\", sizes=(50, 200))\n",
    "ax.set(xlabel='sampling fraction (from dataset)', ylabel='time (secs)')\n",
    "ax.legend(loc='center left', bbox_to_anchor=(1, 0.5))\n",
    "ax.set_xlim(0, 1)\n",
    "plt.title(\"Sampling fraction versus Training time\")\n",
    "plt.savefig(\"tradeoff-trainingtime-r2.pdf\", format='pdf', bbox_inches = 'tight')\n",
    "plt.show()\n",
    "\n",
    "ax = sns.scatterplot(data=df_metrics_both_all, x=\"n_queries\", y=\"time\", size=\"MAPE\", hue=\"case\", sizes=(50, 200))\n",
    "ax.set(xlabel='sampling fraction (from dataset)', ylabel='time (secs)')\n",
    "ax.legend(loc='center left', bbox_to_anchor=(1, 0.5))\n",
    "ax.set_xlim(0, 1)\n",
    "plt.title(\"Sampling fraction versus Training time\")\n",
    "plt.savefig(\"tradeoff-trainingtime-mape.pdf\", format='pdf', bbox_inches = 'tight')\n",
    "plt.show()"
   ]
  },
  {
   "cell_type": "code",
   "execution_count": 30,
   "metadata": {
    "colab": {
     "base_uri": "https://localhost:8080/",
     "height": 443
    },
    "executionInfo": {
     "elapsed": 6,
     "status": "ok",
     "timestamp": 1734791370730,
     "user": {
      "displayName": "Andres Diaz-Pace",
      "userId": "06774295198865754437"
     },
     "user_tz": 180
    },
    "id": "kh0fwEnA27pE",
    "outputId": "795c933a-9f4f-474f-8a7d-a19bee5706b1"
   },
   "outputs": [
    {
     "data": {
      "text/html": [
       "<div>\n",
       "<style scoped>\n",
       "    .dataframe tbody tr th:only-of-type {\n",
       "        vertical-align: middle;\n",
       "    }\n",
       "\n",
       "    .dataframe tbody tr th {\n",
       "        vertical-align: top;\n",
       "    }\n",
       "\n",
       "    .dataframe thead th {\n",
       "        text-align: right;\n",
       "    }\n",
       "</style>\n",
       "<table border=\"1\" class=\"dataframe\">\n",
       "  <thead>\n",
       "    <tr style=\"text-align: right;\">\n",
       "      <th></th>\n",
       "      <th>exp</th>\n",
       "      <th>size</th>\n",
       "      <th>features</th>\n",
       "      <th>queries</th>\n",
       "      <th>time</th>\n",
       "      <th>R2</th>\n",
       "      <th>MSE</th>\n",
       "      <th>RMSE</th>\n",
       "      <th>MAE</th>\n",
       "      <th>MAPE</th>\n",
       "      <th>n_queries</th>\n",
       "      <th>case</th>\n",
       "      <th>computation_time</th>\n",
       "    </tr>\n",
       "  </thead>\n",
       "  <tbody>\n",
       "    <tr>\n",
       "      <th>0</th>\n",
       "      <td>incremental - all</td>\n",
       "      <td>454</td>\n",
       "      <td>734</td>\n",
       "      <td>72</td>\n",
       "      <td>3.738188</td>\n",
       "      <td>0.420027</td>\n",
       "      <td>0.579973</td>\n",
       "      <td>0.761560</td>\n",
       "      <td>0.324268</td>\n",
       "      <td>0.799581</td>\n",
       "      <td>0.1</td>\n",
       "      <td>stplus-incremental</td>\n",
       "      <td>0.379372</td>\n",
       "    </tr>\n",
       "    <tr>\n",
       "      <th>1</th>\n",
       "      <td>incremental - all</td>\n",
       "      <td>454</td>\n",
       "      <td>734</td>\n",
       "      <td>115</td>\n",
       "      <td>4.355682</td>\n",
       "      <td>0.638420</td>\n",
       "      <td>0.361580</td>\n",
       "      <td>0.601315</td>\n",
       "      <td>0.219228</td>\n",
       "      <td>0.624820</td>\n",
       "      <td>0.2</td>\n",
       "      <td>stplus-incremental</td>\n",
       "      <td>0.757877</td>\n",
       "    </tr>\n",
       "    <tr>\n",
       "      <th>2</th>\n",
       "      <td>incremental - all</td>\n",
       "      <td>454</td>\n",
       "      <td>734</td>\n",
       "      <td>157</td>\n",
       "      <td>4.927842</td>\n",
       "      <td>0.839724</td>\n",
       "      <td>0.160276</td>\n",
       "      <td>0.400344</td>\n",
       "      <td>0.140052</td>\n",
       "      <td>0.410203</td>\n",
       "      <td>0.3</td>\n",
       "      <td>stplus-incremental</td>\n",
       "      <td>1.136369</td>\n",
       "    </tr>\n",
       "    <tr>\n",
       "      <th>3</th>\n",
       "      <td>incremental - all</td>\n",
       "      <td>454</td>\n",
       "      <td>734</td>\n",
       "      <td>200</td>\n",
       "      <td>4.537649</td>\n",
       "      <td>0.871057</td>\n",
       "      <td>0.128943</td>\n",
       "      <td>0.359087</td>\n",
       "      <td>0.116617</td>\n",
       "      <td>0.362951</td>\n",
       "      <td>0.4</td>\n",
       "      <td>stplus-incremental</td>\n",
       "      <td>1.514594</td>\n",
       "    </tr>\n",
       "    <tr>\n",
       "      <th>4</th>\n",
       "      <td>incremental - all</td>\n",
       "      <td>454</td>\n",
       "      <td>734</td>\n",
       "      <td>242</td>\n",
       "      <td>4.654522</td>\n",
       "      <td>0.879361</td>\n",
       "      <td>0.120639</td>\n",
       "      <td>0.347331</td>\n",
       "      <td>0.110716</td>\n",
       "      <td>0.336533</td>\n",
       "      <td>0.5</td>\n",
       "      <td>stplus-incremental</td>\n",
       "      <td>1.892960</td>\n",
       "    </tr>\n",
       "    <tr>\n",
       "      <th>5</th>\n",
       "      <td>incremental - all</td>\n",
       "      <td>1192</td>\n",
       "      <td>919</td>\n",
       "      <td>231</td>\n",
       "      <td>66.696487</td>\n",
       "      <td>0.338095</td>\n",
       "      <td>0.661905</td>\n",
       "      <td>0.813575</td>\n",
       "      <td>0.276066</td>\n",
       "      <td>0.935466</td>\n",
       "      <td>0.1</td>\n",
       "      <td>cocome-incremental</td>\n",
       "      <td>2.005193</td>\n",
       "    </tr>\n",
       "    <tr>\n",
       "      <th>6</th>\n",
       "      <td>incremental - all</td>\n",
       "      <td>1192</td>\n",
       "      <td>919</td>\n",
       "      <td>338</td>\n",
       "      <td>70.989174</td>\n",
       "      <td>0.443947</td>\n",
       "      <td>0.556053</td>\n",
       "      <td>0.745690</td>\n",
       "      <td>0.252906</td>\n",
       "      <td>0.594637</td>\n",
       "      <td>0.2</td>\n",
       "      <td>cocome-incremental</td>\n",
       "      <td>3.993053</td>\n",
       "    </tr>\n",
       "    <tr>\n",
       "      <th>7</th>\n",
       "      <td>incremental - all</td>\n",
       "      <td>1192</td>\n",
       "      <td>919</td>\n",
       "      <td>445</td>\n",
       "      <td>72.005198</td>\n",
       "      <td>0.516388</td>\n",
       "      <td>0.483612</td>\n",
       "      <td>0.695422</td>\n",
       "      <td>0.245403</td>\n",
       "      <td>0.636324</td>\n",
       "      <td>0.3</td>\n",
       "      <td>cocome-incremental</td>\n",
       "      <td>5.980001</td>\n",
       "    </tr>\n",
       "    <tr>\n",
       "      <th>8</th>\n",
       "      <td>incremental - all</td>\n",
       "      <td>1192</td>\n",
       "      <td>919</td>\n",
       "      <td>552</td>\n",
       "      <td>77.306337</td>\n",
       "      <td>0.588712</td>\n",
       "      <td>0.411288</td>\n",
       "      <td>0.641317</td>\n",
       "      <td>0.233612</td>\n",
       "      <td>0.588609</td>\n",
       "      <td>0.4</td>\n",
       "      <td>cocome-incremental</td>\n",
       "      <td>7.968141</td>\n",
       "    </tr>\n",
       "    <tr>\n",
       "      <th>9</th>\n",
       "      <td>incremental - all</td>\n",
       "      <td>1192</td>\n",
       "      <td>919</td>\n",
       "      <td>658</td>\n",
       "      <td>78.070003</td>\n",
       "      <td>0.651903</td>\n",
       "      <td>0.348097</td>\n",
       "      <td>0.589997</td>\n",
       "      <td>0.217834</td>\n",
       "      <td>0.539427</td>\n",
       "      <td>0.5</td>\n",
       "      <td>cocome-incremental</td>\n",
       "      <td>9.955019</td>\n",
       "    </tr>\n",
       "    <tr>\n",
       "      <th>10</th>\n",
       "      <td>naive - whole set</td>\n",
       "      <td>454</td>\n",
       "      <td>734</td>\n",
       "      <td>454</td>\n",
       "      <td>8.234221</td>\n",
       "      <td>0.951501</td>\n",
       "      <td>0.048499</td>\n",
       "      <td>0.220226</td>\n",
       "      <td>0.085331</td>\n",
       "      <td>0.692315</td>\n",
       "      <td>1.0</td>\n",
       "      <td>stplus-full</td>\n",
       "      <td>3.783333</td>\n",
       "    </tr>\n",
       "    <tr>\n",
       "      <th>11</th>\n",
       "      <td>naive - whole set</td>\n",
       "      <td>1192</td>\n",
       "      <td>919</td>\n",
       "      <td>1192</td>\n",
       "      <td>9.101941</td>\n",
       "      <td>0.655811</td>\n",
       "      <td>0.344189</td>\n",
       "      <td>0.586677</td>\n",
       "      <td>0.159475</td>\n",
       "      <td>48.199236</td>\n",
       "      <td>1.0</td>\n",
       "      <td>cocome-full</td>\n",
       "      <td>19.866667</td>\n",
       "    </tr>\n",
       "  </tbody>\n",
       "</table>\n",
       "</div>"
      ],
      "text/plain": [
       "                  exp  size  features  queries       time        R2       MSE  \\\n",
       "0   incremental - all   454       734       72   3.738188  0.420027  0.579973   \n",
       "1   incremental - all   454       734      115   4.355682  0.638420  0.361580   \n",
       "2   incremental - all   454       734      157   4.927842  0.839724  0.160276   \n",
       "3   incremental - all   454       734      200   4.537649  0.871057  0.128943   \n",
       "4   incremental - all   454       734      242   4.654522  0.879361  0.120639   \n",
       "5   incremental - all  1192       919      231  66.696487  0.338095  0.661905   \n",
       "6   incremental - all  1192       919      338  70.989174  0.443947  0.556053   \n",
       "7   incremental - all  1192       919      445  72.005198  0.516388  0.483612   \n",
       "8   incremental - all  1192       919      552  77.306337  0.588712  0.411288   \n",
       "9   incremental - all  1192       919      658  78.070003  0.651903  0.348097   \n",
       "10  naive - whole set   454       734      454   8.234221  0.951501  0.048499   \n",
       "11  naive - whole set  1192       919     1192   9.101941  0.655811  0.344189   \n",
       "\n",
       "        RMSE       MAE       MAPE  n_queries                case  \\\n",
       "0   0.761560  0.324268   0.799581        0.1  stplus-incremental   \n",
       "1   0.601315  0.219228   0.624820        0.2  stplus-incremental   \n",
       "2   0.400344  0.140052   0.410203        0.3  stplus-incremental   \n",
       "3   0.359087  0.116617   0.362951        0.4  stplus-incremental   \n",
       "4   0.347331  0.110716   0.336533        0.5  stplus-incremental   \n",
       "5   0.813575  0.276066   0.935466        0.1  cocome-incremental   \n",
       "6   0.745690  0.252906   0.594637        0.2  cocome-incremental   \n",
       "7   0.695422  0.245403   0.636324        0.3  cocome-incremental   \n",
       "8   0.641317  0.233612   0.588609        0.4  cocome-incremental   \n",
       "9   0.589997  0.217834   0.539427        0.5  cocome-incremental   \n",
       "10  0.220226  0.085331   0.692315        1.0         stplus-full   \n",
       "11  0.586677  0.159475  48.199236        1.0         cocome-full   \n",
       "\n",
       "    computation_time  \n",
       "0           0.379372  \n",
       "1           0.757877  \n",
       "2           1.136369  \n",
       "3           1.514594  \n",
       "4           1.892960  \n",
       "5           2.005193  \n",
       "6           3.993053  \n",
       "7           5.980001  \n",
       "8           7.968141  \n",
       "9           9.955019  \n",
       "10          3.783333  \n",
       "11         19.866667  "
      ]
     },
     "execution_count": 30,
     "metadata": {},
     "output_type": "execute_result"
    }
   ],
   "source": [
    "df_metrics_both_all.at[10,'n_queries'] = 1.0\n",
    "df_metrics_both_all.at[11,'n_queries'] = 1.0\n",
    "df_metrics_both_all.at[10,'case'] = 'stplus-full'\n",
    "df_metrics_both_all.at[11,'case'] = 'cocome-full'\n",
    "df_metrics_both_all['computation_time'] = df_metrics_both_all['computation_time'] / 3600\n",
    "df_metrics_both_all"
   ]
  },
  {
   "cell_type": "code",
   "execution_count": 31,
   "metadata": {
    "colab": {
     "base_uri": "https://localhost:8080/",
     "height": 898
    },
    "executionInfo": {
     "elapsed": 1790,
     "status": "ok",
     "timestamp": 1734791372516,
     "user": {
      "displayName": "Andres Diaz-Pace",
      "userId": "06774295198865754437"
     },
     "user_tz": 180
    },
    "id": "xINCDTq4SsXE",
    "outputId": "5df0844a-1bf5-43b9-b510-4f1abb87934b"
   },
   "outputs": [
    {
     "data": {
      "image/png": "[encoded data removed]",
      "text/plain": [
       "<Figure size 640x480 with 1 Axes>"
      ]
     },
     "metadata": {},
     "output_type": "display_data"
    },
    {
     "data": {
      "image/png": "[encoded data removed]",
      "text/plain": [
       "<Figure size 640x480 with 1 Axes>"
      ]
     },
     "metadata": {},
     "output_type": "display_data"
    }
   ],
   "source": [
    "df1 = df_metrics_both_all[(df_metrics_both_all['case']=='stplus-incremental')|(df_metrics_both_all['case']=='stplus-full')]\n",
    "df2 = df_metrics_both_all[(df_metrics_both_all['case']=='cocome-incremental')|(df_metrics_both_all['case']=='cocome-full')]\n",
    "\n",
    "plt.plot(df1['n_queries'], df1['computation_time'], color='gray', zorder=0, linestyle = 'dashed')\n",
    "plt.plot(df2['n_queries'], df2['computation_time'], color='gray', zorder=0, linestyle = 'dashed')\n",
    "ax = sns.scatterplot(data=df_metrics_both_all, x=\"n_queries\", y=\"computation_time\", size=\"R2\", hue=\"case\", sizes=(50, 200))\n",
    "ax.set(xlabel='sampling factor (from dataset)', ylabel='time (hours)')\n",
    "ax.legend(loc='center left', bbox_to_anchor=(1, 0.5))\n",
    "#ax.set_zorder(1)\n",
    "ax.set_xlim(0, 1.1)\n",
    "#plt.title(\"Sampling fraction versus Total computation time\")\n",
    "plt.savefig(\"tradeoff-computationtime-r2.pdf\", format='pdf', bbox_inches = 'tight')\n",
    "plt.show()\n",
    "\n",
    "plt.plot(df1['n_queries'], df1['computation_time'], color='gray', zorder=0, linestyle = 'dashed')\n",
    "plt.plot(df2['n_queries'], df2['computation_time'], color='gray', zorder=0, linestyle = 'dashed')\n",
    "ax = sns.scatterplot(data=df_metrics_both_all, x=\"n_queries\", y=\"computation_time\", size=\"MAPE\", hue=\"case\", sizes=(50, 200))\n",
    "ax.set(xlabel='sampling factor (from dataset)', ylabel='time (hours)')\n",
    "ax.legend(loc='center left', bbox_to_anchor=(1, 0.5))\n",
    "ax.set_xlim(0, 1.1)\n",
    "#plt.title(\"Sampling fraction versus Total computation time\")\n",
    "plt.savefig(\"tradeoff-computationtime-mape.pdf\", format='pdf', bbox_inches = 'tight')\n",
    "plt.show()\n"
   ]
  },
  {
   "cell_type": "markdown",
   "metadata": {
    "id": "GVqjFms4lnWq"
   },
   "source": [
    "---"
   ]
  }
 ],
 "metadata": {
  "colab": {
   "provenance": [
    {
     "file_id": "11ZMwxd4PpJ6C8Gf4ZpoyWMZiY4FOMCjc",
     "timestamp": 1734722030119
    },
    {
     "file_id": "1GZuEwU9SW3RDNEUW4xkg-B88uCeWdIem",
     "timestamp": 1731211271007
    }
   ]
  },
  "kernelspec": {
   "display_name": "archsurrogates",
   "language": "python",
   "name": "python3"
  },
  "language_info": {
   "codemirror_mode": {
    "name": "ipython",
    "version": 3
   },
   "file_extension": ".py",
   "mimetype": "text/x-python",
   "name": "python",
   "nbconvert_exporter": "python",
   "pygments_lexer": "ipython3",
   "version": "3.11.11"
  }
 },
 "nbformat": 4,
 "nbformat_minor": 0
}
